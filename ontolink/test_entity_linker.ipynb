{
 "cells": [
  {
   "cell_type": "code",
   "execution_count": 1,
   "source": [
    "%load_ext autoreload\n",
    "%autoreload 2\n"
   ],
   "outputs": [],
   "metadata": {}
  },
  {
   "cell_type": "code",
   "execution_count": 2,
   "source": [
    "\"\"\"Computing the score \n",
    "    score(e;q,m) = P (e|q,m) ∝ P (e|m)P (q|e) \n",
    "\"\"\"\n",
    "from termcolor import colored\n",
    "from tabulate import tabulate\n",
    "import pickle5 as pickle\n",
    "\n",
    "import time\n",
    "from entity_linker import EntityLinker\n",
    "from flair.models import SequenceTagger\n",
    "from entity_ranking import DictionaryRanking, QueryEntityRanking\n"
   ],
   "outputs": [],
   "metadata": {}
  },
  {
   "cell_type": "code",
   "execution_count": 3,
   "source": [
    "#loading dicitonary of commonness,\n",
    "print('Loading mention2pem dictionary ...')\n",
    "handle = open('../data/pem/pem.pickle', 'rb')\n",
    "mention2pem = pickle.load(handle)\n",
    "\n",
    "\n",
    "print('Loading entity description dictionary ...')\n",
    "handle_desc = open('../data/pem/entity2description.pickle', 'rb')\n",
    "entity2description = pickle.load(handle_desc)\n",
    "print('NUmber of entities: ', len(entity2description))\n",
    "\n",
    "print('Loading dictionary of term frequency ...')\n",
    "handle_desc = open('../data/pem/mention_freq.pickle', 'rb')\n",
    "mention2freq = pickle.load(handle_desc)\n",
    "print('Number of term in the collection: ', len(mention2freq))\n",
    "\n",
    "#given by create_term_req\n",
    "collection_size_terms = len(mention2pem)\n"
   ],
   "outputs": [
    {
     "output_type": "stream",
     "name": "stdout",
     "text": [
      "Loading mention2pem dictionary ...\n",
      "Loading entity description dictionary ...\n",
      "NUmber of entities:  2680002\n",
      "Loading dictionary of term frequency ...\n",
      "Number of term in the collection:  3506008\n"
     ]
    }
   ],
   "metadata": {}
  },
  {
   "cell_type": "code",
   "execution_count": 4,
   "source": [
    "list(mention2pem['reproduction'].keys())"
   ],
   "outputs": [
    {
     "output_type": "execute_result",
     "data": {
      "text/plain": [
       "['GO:0000003']"
      ]
     },
     "metadata": {},
     "execution_count": 4
    }
   ],
   "metadata": {}
  },
  {
   "cell_type": "code",
   "execution_count": 5,
   "source": [
    "list(mention2pem['reproduction'].values())\n"
   ],
   "outputs": [
    {
     "output_type": "execute_result",
     "data": {
      "text/plain": [
       "[1.0]"
      ]
     },
     "metadata": {},
     "execution_count": 5
    }
   ],
   "metadata": {}
  },
  {
   "cell_type": "code",
   "execution_count": 6,
   "source": [
    "entity2description['GO:0005578']\n"
   ],
   "outputs": [
    {
     "output_type": "execute_result",
     "data": {
      "text/plain": [
       "'#UNK'"
      ]
     },
     "metadata": {},
     "execution_count": 6
    }
   ],
   "metadata": {}
  },
  {
   "cell_type": "code",
   "execution_count": 7,
   "source": [
    "entity2description['GO:0031012']\n"
   ],
   "outputs": [
    {
     "output_type": "execute_result",
     "data": {
      "text/plain": [
       "('structure',\n",
       " 'cells',\n",
       " 'biochemical',\n",
       " 'tissues',\n",
       " 'biomechanical',\n",
       " 'lying',\n",
       " 'proteinaceous',\n",
       " 'structural',\n",
       " 'extracellular',\n",
       " 'support',\n",
       " 'matrisome',\n",
       " 'cues',\n",
       " 'matrix',\n",
       " 'external',\n",
       " 'provides')"
      ]
     },
     "metadata": {},
     "execution_count": 7
    }
   ],
   "metadata": {}
  },
  {
   "cell_type": "code",
   "execution_count": 8,
   "source": [
    "# load the NER tagger\n",
    "tagger = SequenceTagger.load(\n",
    "    '../resources/taggers/sota-ner-flair/best-model.pt')\n"
   ],
   "outputs": [
    {
     "output_type": "stream",
     "name": "stdout",
     "text": [
      "2021-09-09 17:30:44,234 loading file ../resources/taggers/sota-ner-flair/best-model.pt\n"
     ]
    }
   ],
   "metadata": {}
  },
  {
   "cell_type": "code",
   "execution_count": 9,
   "source": [
    "dictionarysearch_strategy = DictionaryRanking(mention2pem) \n",
    "queryranking_strategy = QueryEntityRanking(\n",
    "    entity2description=entity2description,\n",
    "    mention_freq=mention2freq,\n",
    "    mention2pem=mention2pem\n",
    "    )\n",
    "e_linker = EntityLinker(\n",
    "    ranking_strategy=queryranking_strategy,\n",
    "    ner_model=tagger,\n",
    "    mention2pem=mention2pem\n",
    "    )\n"
   ],
   "outputs": [],
   "metadata": {}
  },
  {
   "cell_type": "code",
   "execution_count": 11,
   "source": [
    "e_linker.link_entities('a quaternary ammonium salt that is the monoiodide')"
   ],
   "outputs": [
    {
     "output_type": "stream",
     "name": "stdout",
     "text": [
      "a quaternary ammonium salt that is the monoiodide\n",
      "Analizing mentions: ['quaternary ammonium salt']\n"
     ]
    },
    {
     "output_type": "execute_result",
     "data": {
      "text/plain": [
       "{'quaternary ammonium salt': ('CHEBI:35273', 117.02924314033649)}"
      ]
     },
     "metadata": {},
     "execution_count": 11
    }
   ],
   "metadata": {}
  },
  {
   "cell_type": "code",
   "execution_count": 12,
   "source": [
    "e_linker.link_entities('sexual reproduction')"
   ],
   "outputs": [
    {
     "output_type": "stream",
     "name": "stdout",
     "text": [
      "sexual reproduction\n",
      "Analizing mentions: ['reproduction']\n"
     ]
    },
    {
     "output_type": "execute_result",
     "data": {
      "text/plain": [
       "{'reproduction': ('GO:0000003', 133.7471342435693)}"
      ]
     },
     "metadata": {},
     "execution_count": 12
    }
   ],
   "metadata": {}
  },
  {
   "cell_type": "code",
   "execution_count": 13,
   "source": [
    "e_linker.link_entities('Quaternary ammonium salt that is the monoiodide')"
   ],
   "outputs": [
    {
     "output_type": "stream",
     "name": "stdout",
     "text": [
      "quaternary ammonium salt that is the monoiodide\n",
      "Analizing mentions: ['ammonium salt']\n"
     ]
    },
    {
     "output_type": "execute_result",
     "data": {
      "text/plain": [
       "{'ammonium salt': ('CHEBI:47704', 209.34564719620988)}"
      ]
     },
     "metadata": {},
     "execution_count": 13
    }
   ],
   "metadata": {}
  },
  {
   "cell_type": "code",
   "execution_count": 30,
   "source": [
    "e_linker.link_entities('Quaternary ammonium salt that is the monoiodide. Sexual reproduction')\n"
   ],
   "outputs": [
    {
     "output_type": "stream",
     "name": "stdout",
     "text": [
      "Anlysing sentence: quaternary ammonium salt that is the monoiodide.\n",
      "Anlysing sentence: sexual reproduction\n",
      "Analizing mentions: ['quaternary ammonium salt', 'reproduction']\n"
     ]
    },
    {
     "output_type": "execute_result",
     "data": {
      "text/plain": [
       "{'quaternary ammonium salt': ('CHEBI:35273', 23.925605133577974),\n",
       " 'reproduction': ('GO:0000003', 5.114009083705022)}"
      ]
     },
     "metadata": {},
     "execution_count": 30
    }
   ],
   "metadata": {}
  },
  {
   "cell_type": "code",
   "execution_count": 29,
   "source": [
    "e_linker.link_entities(\n",
    "    'Quaternary ammonium salt that is the monoiodide that can be found in some species with sexual reproduction reduced')\n"
   ],
   "outputs": [
    {
     "output_type": "stream",
     "name": "stdout",
     "text": [
      "Anlysing sentence: quaternary ammonium salt that is the monoiodide that can be found in some species with sexual reproduction reduced\n",
      "Analizing mentions: ['quaternary ammonium salt']\n"
     ]
    },
    {
     "output_type": "execute_result",
     "data": {
      "text/plain": [
       "{'quaternary ammonium salt': ('CHEBI:35273', 8.303132223775105)}"
      ]
     },
     "metadata": {},
     "execution_count": 29
    }
   ],
   "metadata": {}
  },
  {
   "cell_type": "code",
   "execution_count": 23,
   "source": [
    "e_linker.link_entities('A molecular entity having a net electric.')\n"
   ],
   "outputs": [
    {
     "output_type": "stream",
     "name": "stdout",
     "text": [
      "a molecular entity having a net electric.\n",
      "Analizing mentions: ['molecular entity']\n"
     ]
    },
    {
     "output_type": "execute_result",
     "data": {
      "text/plain": [
       "{'molecular entity': ('CHEBI:23367', 3.245904530608999)}"
      ]
     },
     "metadata": {},
     "execution_count": 23
    }
   ],
   "metadata": {}
  },
  {
   "cell_type": "code",
   "execution_count": 24,
   "source": [
    "e_linker.link_entities('theres molecular entity with electric charge')\n"
   ],
   "outputs": [
    {
     "output_type": "stream",
     "name": "stdout",
     "text": [
      "theres molecular entity with electric charge\n",
      "Analizing mentions: ['molecular entity']\n"
     ]
    },
    {
     "output_type": "execute_result",
     "data": {
      "text/plain": [
       "{'molecular entity': ('CHEBI:23367', 3.245904530608999)}"
      ]
     },
     "metadata": {},
     "execution_count": 24
    }
   ],
   "metadata": {}
  },
  {
   "cell_type": "code",
   "execution_count": 25,
   "source": [
    "text = 'The fluoride salt of beryllium (+2 oxidation state). In the solid state it exists as a glass, with four-coordinate Be(2+) tetrahedral centres and two-coordinate fluoride centres. As a gas it adopts a linear triatomic structure and in the liquid state a fluctuating tetrahedral structure. In protein crystallography it is used as a mimic of phosphate.'\n",
    "e_linker.link_entities(text)"
   ],
   "outputs": [
    {
     "output_type": "stream",
     "name": "stdout",
     "text": [
      "the fluoride salt of beryllium (+2 oxidation state). in the solid state it exists as a glass, with four-coordinate be(2+) tetrahedral centres and two-coordinate fluoride centres. as a gas it adopts a linear triatomic structure and in the liquid state a fluctuating tetrahedral structure. in protein crystallography it is used as a mimic of phosphate.\n",
      "Analizing mentions: ['fluoride salt']\n"
     ]
    },
    {
     "output_type": "execute_result",
     "data": {
      "text/plain": [
       "{'fluoride salt': ('CHEBI:24060', 2.4392465042187164)}"
      ]
     },
     "metadata": {},
     "execution_count": 25
    }
   ],
   "metadata": {}
  },
  {
   "cell_type": "code",
   "execution_count": 26,
   "source": [
    "e_linker.link_entities('The fluoride salt of beryllium (+2 oxidation state)')\n"
   ],
   "outputs": [
    {
     "output_type": "stream",
     "name": "stdout",
     "text": [
      "the fluoride salt of beryllium (+2 oxidation state)\n",
      "Analizing mentions: ['fluoride salt']\n"
     ]
    },
    {
     "output_type": "execute_result",
     "data": {
      "text/plain": [
       "{'fluoride salt': ('CHEBI:24060', 41.07384692550316)}"
      ]
     },
     "metadata": {},
     "execution_count": 26
    }
   ],
   "metadata": {}
  },
  {
   "cell_type": "code",
   "execution_count": 33,
   "source": [
    "e_linker.link_entities(\n",
    "    'In the solid state it exists as a glass, with four-coordinate Be(2+) tetrahedral centres and two-coordinate fluoride centres.')\n"
   ],
   "outputs": [
    {
     "output_type": "stream",
     "name": "stdout",
     "text": [
      "Anlysing sentence: in the solid state it exists as a glass, with four-coordinate be(2+) tetrahedral centres and two-coordinate fluoride centres.\n",
      "Analizing mentions: []\n"
     ]
    },
    {
     "output_type": "execute_result",
     "data": {
      "text/plain": [
       "{}"
      ]
     },
     "metadata": {},
     "execution_count": 33
    }
   ],
   "metadata": {}
  },
  {
   "cell_type": "code",
   "execution_count": 34,
   "source": [
    "e_linker.link_entities(\n",
    "    ' As a gas it adopts a linear triatomic structure and in the liquid state a fluctuating tetrahedral structure.')\n"
   ],
   "outputs": [
    {
     "output_type": "stream",
     "name": "stdout",
     "text": [
      "Anlysing sentence: as a gas it adopts a linear triatomic structure and in the liquid state a fluctuating tetrahedral structure.\n",
      "Analizing mentions: []\n"
     ]
    },
    {
     "output_type": "execute_result",
     "data": {
      "text/plain": [
       "{}"
      ]
     },
     "metadata": {},
     "execution_count": 34
    }
   ],
   "metadata": {}
  },
  {
   "cell_type": "code",
   "execution_count": 32,
   "source": [
    "e_linker.link_entities('In protein crystallography it is used as a mimic of phosphate.')"
   ],
   "outputs": [
    {
     "output_type": "stream",
     "name": "stdout",
     "text": [
      "Anlysing sentence: in protein crystallography it is used as a mimic of phosphate.\n",
      "Analizing mentions: []\n"
     ]
    },
    {
     "output_type": "execute_result",
     "data": {
      "text/plain": [
       "{}"
      ]
     },
     "metadata": {},
     "execution_count": 32
    }
   ],
   "metadata": {}
  },
  {
   "cell_type": "code",
   "execution_count": 42,
   "source": [
    "text = \"\"\"The process in which an antigen-presenting cell expresses peptide antigen in \n",
    "association with an MHC protein complex on its cell surface, including proteolysis and \n",
    "transport steps for the peptide antigen both prior to and following assembly with the MHC protein complex.\n",
    " The peptide antigen is typically, but not always, processed from an endogenous or exogenous protein.\"\"\"\n",
    "\n",
    "e_linker.link_entities(text)\n"
   ],
   "outputs": [
    {
     "output_type": "stream",
     "name": "stdout",
     "text": [
      "Anlysing sentence: the process in which an antigen-presenting cell expresses peptide antigen in \n",
      "association with an mhc protein complex on its cell surface, including proteolysis and \n",
      "transport steps for the peptide antigen both prior to and following assembly with the mhc protein complex.\n",
      "Anlysing sentence: \n",
      " the peptide antigen is typically, but not always, processed from an endogenous or exogenous protein.\n",
      "Analizing mentions: ['peptide', 'cell', 'complex', 'association', 'antigen', 'proteolysis', 'transport', 'process', 'protein', 'surface', 'process', 'peptide antigen']\n"
     ]
    },
    {
     "output_type": "execute_result",
     "data": {
      "text/plain": [
       "{'peptide': ('SIO:001425', 0.00011945268624484184),\n",
       " 'cell': ('ZFA:0009000', 0.6396418482908037),\n",
       " 'complex': ('PATO:0001504', 1.5625476340619513),\n",
       " 'association': ('SIO:000897', 1.5554851540554113),\n",
       " 'antigen': ('SIO:010419', 0.2704365459170655),\n",
       " 'proteolysis': ('GO:0006508', 1.4488989004822508),\n",
       " 'transport': ('GO:0006810', 2.118081807878947),\n",
       " 'process': ('ZFA:0001637', 0.022207348007965165),\n",
       " 'protein': ('SIO:010043', 0.2882234381862722),\n",
       " 'surface': ('BSPO:0000005', 3.3331331652821814),\n",
       " 'peptide antigen': ('CHEBI:166824', 1.5481646623205014)}"
      ]
     },
     "metadata": {},
     "execution_count": 42
    }
   ],
   "metadata": {}
  },
  {
   "cell_type": "code",
   "execution_count": 43,
   "source": [
    "e_linker.link_entities('A tiger is a carnovire of the mammal family.')"
   ],
   "outputs": [
    {
     "output_type": "stream",
     "name": "stdout",
     "text": [
      "Anlysing sentence: a tiger is a carnovire of the mammal family.\n",
      "Analizing mentions: ['tiger', 'mammal', 'family']\n"
     ]
    },
    {
     "output_type": "execute_result",
     "data": {
      "text/plain": [
       "{'tiger': ('NCBITaxon:9694', 16.439691350989236),\n",
       " 'mammal': ('NCBITaxon:40674', 1.0),\n",
       " 'family': ('STATO:0000257', 9.707100448364667)}"
      ]
     },
     "metadata": {},
     "execution_count": 43
    }
   ],
   "metadata": {}
  },
  {
   "cell_type": "code",
   "execution_count": 46,
   "source": [
    "\n",
    "text = \"\"\"Natural gas consists primarily of methane that is clean, non-toxic, and has abundant natural reserves. \n",
    "However, methane is also a greenhouse gas whose greenhouse effect is more than 20 times than that of carbon dioxide. \n",
    "The conversion of methane into other value-added chemicals has been an important research area in the field of catalysis for many years. \n",
    "One of the most challenging processes of high industrial importance is the conversion of methane to methanol (CHEBI:17790), \n",
    "a simple alcohol that is liquid under ambient conditions and can be easily stored and transported compared to methane [1]. \n",
    "Methanol is used as an important chemical raw material to make products such as paints and plastics and as an additive to gasoline [2].\"\"\"\n",
    "e_linker.link_entities(text)\n"
   ],
   "outputs": [
    {
     "output_type": "stream",
     "name": "stdout",
     "text": [
      "Anlysing sentence: natural gas consists primarily of methane that is clean, non-toxic, and has abundant natural reserves.\n",
      "Anlysing sentence: \n",
      "however, methane is also a greenhouse gas whose greenhouse effect is more than 20 times than that of carbon dioxide.\n",
      "Anlysing sentence: \n",
      "the conversion of methane into other value-added chemicals has been an important research area in the field of catalysis for many years.\n",
      "Anlysing sentence: \n",
      "one of the most challenging processes of high industrial importance is the conversion of methane to methanol (chebi:17790), \n",
      "a simple alcohol that is liquid under ambient conditions and can be easily stored and transported compared to methane [1].\n",
      "Anlysing sentence: \n",
      "methanol is used as an important chemical raw material to make products such as paints and plastics and as an additive to gasoline [2].\n",
      "Analizing mentions: ['field', 'methane', 'alcohol', 'methanol', 'simple', 'processes', 'area', 'gas', 'carbon', 'liquid', 'toxic']\n"
     ]
    },
    {
     "output_type": "execute_result",
     "data": {
      "text/plain": [
       "{'field': ('UBERON:0007688', 1.1765244958215784),\n",
       " 'methane': ('CHEBI:16183', 2.051886417753274),\n",
       " 'alcohol': ('CHEBI:16236', 0.0005115270212291953),\n",
       " 'methanol': ('CHEBI:17790', 1.2641306724996488),\n",
       " 'simple': ('PATO:0001503', 1.2370289502089358),\n",
       " 'processes': ('UBERON:0004529', 1.1592570353598035),\n",
       " 'area': ('SIO:000045', 0.6359842547183276),\n",
       " 'gas': ('PATO:0001737', 0.613474414998096),\n",
       " 'carbon': ('CHEBI:27594', 0.3731910408796742),\n",
       " 'liquid': ('PATO:0001735', 1.2884007958961678),\n",
       " 'toxic': ('SIO:001009', 1.3050453744086419)}"
      ]
     },
     "metadata": {},
     "execution_count": 46
    }
   ],
   "metadata": {}
  },
  {
   "cell_type": "code",
   "execution_count": 47,
   "source": [
    "from utils import _print_colorful_text"
   ],
   "outputs": [],
   "metadata": {}
  },
  {
   "cell_type": "code",
   "execution_count": 50,
   "source": [
    "text = 'A tiger is a carnovire of the mammal family.'\n",
    "\n",
    "samples = [{'name': 'tiger', 'start_pos': 2, 'end_pos': 7},\n",
    "           {'name': 'carnivore', 'start_pos': 13, 'end_pos': 22}]\n",
    "\n",
    "_print_colorful_text(text,samples)"
   ],
   "outputs": [
    {
     "output_type": "stream",
     "name": "stdout",
     "text": [
      "\n",
      "A \u001b[41m\u001b[30mtiger\u001b[0m is a \u001b[42m\u001b[30mcarnovire\u001b[0m of the mammal family.\n",
      "\n"
     ]
    }
   ],
   "metadata": {}
  }
 ],
 "metadata": {
  "orig_nbformat": 4,
  "language_info": {
   "name": "python",
   "version": "3.8.5",
   "mimetype": "text/x-python",
   "codemirror_mode": {
    "name": "ipython",
    "version": 3
   },
   "pygments_lexer": "ipython3",
   "nbconvert_exporter": "python",
   "file_extension": ".py"
  },
  "kernelspec": {
   "name": "python3",
   "display_name": "Python 3.8.5 64-bit ('ontonerd': conda)"
  },
  "interpreter": {
   "hash": "f7111a28d93937e44de81b263355d7295881e69712709cd005f9d5c465abfe2b"
  }
 },
 "nbformat": 4,
 "nbformat_minor": 2
}