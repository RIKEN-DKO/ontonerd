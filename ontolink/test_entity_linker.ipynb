{
 "cells": [
  {
   "cell_type": "code",
   "execution_count": 1,
   "source": [
    "%load_ext autoreload\n",
    "%autoreload 2\n"
   ],
   "outputs": [],
   "metadata": {}
  },
  {
   "cell_type": "code",
   "execution_count": 2,
   "source": [
    "\"\"\"Computing the score \n",
    "    score(e;q,m) = P (e|q,m) ∝ P (e|m)P (q|e) \n",
    "\"\"\"\n",
    "from termcolor import colored\n",
    "from tabulate import tabulate\n",
    "import pickle5 as pickle\n",
    "\n",
    "import time\n",
    "from entity_linker import EntityLinker\n",
    "from flair.models import SequenceTagger\n",
    "from entity_ranking import DictionaryRanking, QueryEntityRanking\n"
   ],
   "outputs": [],
   "metadata": {}
  },
  {
   "cell_type": "code",
   "execution_count": 3,
   "source": [
    "#loading dicitonary of commonness,\n",
    "print('Loading mention2pem dictionary ...')\n",
    "handle = open('../data/pem/pem.pickle', 'rb')\n",
    "mention2pem = pickle.load(handle)\n",
    "\n",
    "\n",
    "print('Loading entity description dictionary ...')\n",
    "handle_desc = open('../data/pem/entity2description.pickle', 'rb')\n",
    "entity2description = pickle.load(handle_desc)\n",
    "print('NUmber of entities: ', len(entity2description))\n",
    "\n",
    "print('Loading dictionary of term frequency ...')\n",
    "handle_desc = open('../data/pem/mention_freq.pickle', 'rb')\n",
    "mention2freq = pickle.load(handle_desc)\n",
    "print('Number of term in the collection: ', len(mention2freq))\n",
    "\n",
    "#given by create_term_req\n",
    "collection_size_terms = len(mention2pem)\n"
   ],
   "outputs": [
    {
     "output_type": "stream",
     "name": "stdout",
     "text": [
      "Loading mention2pem dictionary ...\n",
      "Loading entity description dictionary ...\n",
      "NUmber of entities:  2680002\n",
      "Loading dictionary of term frequency ...\n",
      "Number of term in the collection:  3506008\n"
     ]
    }
   ],
   "metadata": {}
  },
  {
   "cell_type": "code",
   "execution_count": 4,
   "source": [
    "list(mention2pem['reproduction'].keys())"
   ],
   "outputs": [
    {
     "output_type": "execute_result",
     "data": {
      "text/plain": [
       "['GO:0000003']"
      ]
     },
     "metadata": {},
     "execution_count": 4
    }
   ],
   "metadata": {}
  },
  {
   "cell_type": "code",
   "execution_count": 5,
   "source": [
    "list(mention2pem['reproduction'].values())\n"
   ],
   "outputs": [
    {
     "output_type": "execute_result",
     "data": {
      "text/plain": [
       "[1.0]"
      ]
     },
     "metadata": {},
     "execution_count": 5
    }
   ],
   "metadata": {}
  },
  {
   "cell_type": "code",
   "execution_count": 12,
   "source": [
    "entity2description['GO:0005578']\n"
   ],
   "outputs": [
    {
     "output_type": "execute_result",
     "data": {
      "text/plain": [
       "()"
      ]
     },
     "metadata": {},
     "execution_count": 12
    }
   ],
   "metadata": {}
  },
  {
   "cell_type": "code",
   "execution_count": 13,
   "source": [
    "entity2description['GO:0031012']\n"
   ],
   "outputs": [
    {
     "output_type": "execute_result",
     "data": {
      "text/plain": [
       "('lying',\n",
       " 'tissues',\n",
       " 'support',\n",
       " 'biochemical',\n",
       " 'matrisome',\n",
       " 'structure',\n",
       " 'external',\n",
       " 'matrix',\n",
       " 'extracellular',\n",
       " 'cells',\n",
       " 'cues',\n",
       " 'proteinaceous',\n",
       " 'structural',\n",
       " 'biomechanical',\n",
       " 'provides')"
      ]
     },
     "metadata": {},
     "execution_count": 13
    }
   ],
   "metadata": {}
  },
  {
   "cell_type": "code",
   "execution_count": 4,
   "source": [
    "# load the NER tagger\n",
    "tagger = SequenceTagger.load(\n",
    "    '../resources/taggers/sota-ner-flair/best-model.pt')\n"
   ],
   "outputs": [
    {
     "output_type": "stream",
     "name": "stdout",
     "text": [
      "2021-09-08 18:48:29,094 loading file ../resources/taggers/sota-ner-flair/best-model.pt\n"
     ]
    }
   ],
   "metadata": {}
  },
  {
   "cell_type": "code",
   "execution_count": 5,
   "source": [
    "dictionarysearch_strategy = DictionaryRanking(mention2pem) \n",
    "queryranking_strategy = QueryEntityRanking(\n",
    "    entity2description=entity2description,\n",
    "    mention_freq=mention2freq,\n",
    "    mention2pem=mention2pem\n",
    "    )\n",
    "e_linker = EntityLinker(\n",
    "    ranking_strategy=queryranking_strategy,\n",
    "    ner_model=tagger,\n",
    "    mention2pem=mention2pem\n",
    "    )\n"
   ],
   "outputs": [],
   "metadata": {}
  },
  {
   "cell_type": "code",
   "execution_count": 20,
   "source": [
    "e_linker.link_entities('a quaternary ammonium salt that is the monoiodide')"
   ],
   "outputs": [
    {
     "output_type": "stream",
     "name": "stdout",
     "text": [
      "Analizing mentions: ['quaternary ammonium salt']\n"
     ]
    },
    {
     "output_type": "execute_result",
     "data": {
      "text/plain": [
       "{'quaternary ammonium salt': ('CHEBI:35273', 117.02924314033649)}"
      ]
     },
     "metadata": {},
     "execution_count": 20
    }
   ],
   "metadata": {}
  },
  {
   "cell_type": "code",
   "execution_count": 22,
   "source": [
    "e_linker.link_entities('sexual reproduction')"
   ],
   "outputs": [
    {
     "output_type": "stream",
     "name": "stdout",
     "text": [
      "Analizing mentions: ['reproduction']\n"
     ]
    },
    {
     "output_type": "execute_result",
     "data": {
      "text/plain": [
       "{'reproduction': ('GO:0000003', 133.7471342435693)}"
      ]
     },
     "metadata": {},
     "execution_count": 22
    }
   ],
   "metadata": {}
  },
  {
   "cell_type": "code",
   "execution_count": 6,
   "source": [
    "e_linker.link_entities('Quaternary ammonium salt that is the monoiodide')"
   ],
   "outputs": [
    {
     "output_type": "stream",
     "name": "stdout",
     "text": [
      "quaternary ammonium salt that is the monoiodide\n",
      "Analizing mentions: ['ammonium salt']\n"
     ]
    },
    {
     "output_type": "execute_result",
     "data": {
      "text/plain": [
       "{'ammonium salt': ('CHEBI:47704', 209.34564719620988)}"
      ]
     },
     "metadata": {},
     "execution_count": 6
    }
   ],
   "metadata": {}
  },
  {
   "cell_type": "code",
   "execution_count": 31,
   "source": [
    "e_linker.link_entities('Quaternary ammonium salt that is the monoiodide. Sexual reproduction')\n"
   ],
   "outputs": [
    {
     "output_type": "stream",
     "name": "stdout",
     "text": [
      "Quaternary ammonium salt that is the monoiodide. Sexual reproduction \n",
      "Analizing mentions: []\n"
     ]
    },
    {
     "output_type": "execute_result",
     "data": {
      "text/plain": [
       "{}"
      ]
     },
     "metadata": {},
     "execution_count": 31
    }
   ],
   "metadata": {}
  },
  {
   "cell_type": "code",
   "execution_count": 32,
   "source": [
    "e_linker.link_entities(\n",
    "    'Quaternary ammonium salt that is the monoiodide that can be found in some species with sexual reproduction reduced')\n"
   ],
   "outputs": [
    {
     "output_type": "stream",
     "name": "stdout",
     "text": [
      "Quaternary ammonium salt that is the monoiodide that can be found in some species with sexual reproduction reduced\n",
      "Analizing mentions: []\n"
     ]
    },
    {
     "output_type": "execute_result",
     "data": {
      "text/plain": [
       "{}"
      ]
     },
     "metadata": {},
     "execution_count": 32
    }
   ],
   "metadata": {}
  },
  {
   "cell_type": "code",
   "execution_count": 34,
   "source": [
    "e_linker.link_entities('A molecular entity having a net electric.')\n"
   ],
   "outputs": [
    {
     "output_type": "stream",
     "name": "stdout",
     "text": [
      "A molecular entity having a net electric.\n",
      "Analizing mentions: ['molecular entity']\n"
     ]
    },
    {
     "output_type": "execute_result",
     "data": {
      "text/plain": [
       "{'molecular entity': ('CHEBI:23367', 2.667553377723604)}"
      ]
     },
     "metadata": {},
     "execution_count": 34
    }
   ],
   "metadata": {}
  },
  {
   "cell_type": "code",
   "execution_count": 36,
   "source": [
    "e_linker.link_entities('theres molecular entity with electric charge')\n"
   ],
   "outputs": [
    {
     "output_type": "stream",
     "name": "stdout",
     "text": [
      "theres molecular entity with electric charge\n",
      "Analizing mentions: ['molecular entity']\n"
     ]
    },
    {
     "output_type": "execute_result",
     "data": {
      "text/plain": [
       "{'molecular entity': ('CHEBI:23367', 3.245904530608999)}"
      ]
     },
     "metadata": {},
     "execution_count": 36
    }
   ],
   "metadata": {}
  },
  {
   "cell_type": "code",
   "execution_count": 37,
   "source": [
    "text = 'The fluoride salt of beryllium (+2 oxidation state). In the solid state it exists as a glass, with four-coordinate Be(2+) tetrahedral centres and two-coordinate fluoride centres. As a gas it adopts a linear triatomic structure and in the liquid state a fluctuating tetrahedral structure. In protein crystallography it is used as a mimic of phosphate.'\n",
    "e_linker.link_entities(text)"
   ],
   "outputs": [
    {
     "output_type": "stream",
     "name": "stdout",
     "text": [
      "The fluoride salt of beryllium (+2 oxidation state). In the solid state it exists as a glass, with four-coordinate Be(2+) tetrahedral centres and two-coordinate fluoride centres. As a gas it adopts a linear triatomic structure and in the liquid state a fluctuating tetrahedral structure. In protein crystallography it is used as a mimic of phosphate.\n",
      "Analizing mentions: ['fluoride salt']\n"
     ]
    },
    {
     "output_type": "execute_result",
     "data": {
      "text/plain": [
       "{'fluoride salt': ('CHEBI:24060', 2.216991408264466)}"
      ]
     },
     "metadata": {},
     "execution_count": 37
    }
   ],
   "metadata": {}
  },
  {
   "cell_type": "code",
   "execution_count": 38,
   "source": [
    "e_linker.link_entities('The fluoride salt of beryllium (+2 oxidation state)')\n"
   ],
   "outputs": [
    {
     "output_type": "stream",
     "name": "stdout",
     "text": [
      "The fluoride salt of beryllium (+2 oxidation state)\n",
      "Analizing mentions: ['fluoride salt']\n"
     ]
    },
    {
     "output_type": "execute_result",
     "data": {
      "text/plain": [
       "{'fluoride salt': ('CHEBI:24060', 24.157725392041723)}"
      ]
     },
     "metadata": {},
     "execution_count": 38
    }
   ],
   "metadata": {}
  },
  {
   "cell_type": "code",
   "execution_count": 40,
   "source": [
    "e_linker.link_entities(\n",
    "    'In the solid state it exists as a glass, with four-coordinate Be(2+) tetrahedral centres and two-coordinate fluoride centres.')\n"
   ],
   "outputs": [
    {
     "output_type": "stream",
     "name": "stdout",
     "text": [
      "In the solid state it exists as a glass, with four-coordinate Be(2+) tetrahedral centres and two-coordinate fluoride centres.\n",
      "Analizing mentions: []\n"
     ]
    },
    {
     "output_type": "execute_result",
     "data": {
      "text/plain": [
       "{}"
      ]
     },
     "metadata": {},
     "execution_count": 40
    }
   ],
   "metadata": {}
  },
  {
   "cell_type": "code",
   "execution_count": 41,
   "source": [
    "e_linker.link_entities(\n",
    "    ' As a gas it adopts a linear triatomic structure and in the liquid state a fluctuating tetrahedral structure.')\n"
   ],
   "outputs": [
    {
     "output_type": "stream",
     "name": "stdout",
     "text": [
      " As a gas it adopts a linear triatomic structure and in the liquid state a fluctuating tetrahedral structure.\n",
      "Analizing mentions: []\n"
     ]
    },
    {
     "output_type": "execute_result",
     "data": {
      "text/plain": [
       "{}"
      ]
     },
     "metadata": {},
     "execution_count": 41
    }
   ],
   "metadata": {}
  },
  {
   "cell_type": "code",
   "execution_count": 43,
   "source": [
    "e_linker.link_entities('In protein crystallography it is used as a mimic of phosphate.')"
   ],
   "outputs": [
    {
     "output_type": "stream",
     "name": "stdout",
     "text": [
      "In protein crystallography it is used as a mimic of phosphate.\n",
      "Analizing mentions: []\n"
     ]
    },
    {
     "output_type": "execute_result",
     "data": {
      "text/plain": [
       "{}"
      ]
     },
     "metadata": {},
     "execution_count": 43
    }
   ],
   "metadata": {}
  },
  {
   "cell_type": "code",
   "execution_count": null,
   "source": [],
   "outputs": [],
   "metadata": {}
  }
 ],
 "metadata": {
  "orig_nbformat": 4,
  "language_info": {
   "name": "python",
   "version": "3.8.5",
   "mimetype": "text/x-python",
   "codemirror_mode": {
    "name": "ipython",
    "version": 3
   },
   "pygments_lexer": "ipython3",
   "nbconvert_exporter": "python",
   "file_extension": ".py"
  },
  "kernelspec": {
   "name": "python3",
   "display_name": "Python 3.8.5 64-bit ('ontonerd': conda)"
  },
  "interpreter": {
   "hash": "f7111a28d93937e44de81b263355d7295881e69712709cd005f9d5c465abfe2b"
  }
 },
 "nbformat": 4,
 "nbformat_minor": 2
}