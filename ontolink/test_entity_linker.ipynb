{
 "cells": [
  {
   "cell_type": "code",
   "execution_count": 1,
   "source": [
    "%load_ext autoreload\n",
    "%autoreload 2\n"
   ],
   "outputs": [],
   "metadata": {}
  },
  {
   "cell_type": "code",
   "execution_count": 2,
   "source": [
    "\"\"\"Computing the score \n",
    "    score(e;q,m) = P (e|q,m) ∝ P (e|m)P (q|e) \n",
    "\"\"\"\n",
    "from termcolor import colored\n",
    "from tabulate import tabulate\n",
    "import pickle5 as pickle\n",
    "\n",
    "import time\n",
    "from entity_linker import EntityLinker, get_mentions_ner\n",
    "from flair.models import SequenceTagger\n",
    "from entity_ranking import DictionaryRanking, QueryEntityRanking\n",
    "from utils import _print_colorful_text\n"
   ],
   "outputs": [],
   "metadata": {}
  },
  {
   "cell_type": "code",
   "execution_count": 3,
   "source": [
    "#loading dicitonary of commonness,\n",
    "print('Loading mention2pem dictionary ...')\n",
    "handle = open('../data/pem/pem.pickle', 'rb')\n",
    "mention2pem = pickle.load(handle)\n",
    "\n",
    "\n",
    "print('Loading entity description dictionary ...')\n",
    "handle_desc = open('../data/pem/entity2description.pickle', 'rb')\n",
    "entity2description = pickle.load(handle_desc)\n",
    "print('NUmber of entities: ', len(entity2description))\n",
    "\n",
    "print('Loading dictionary of term frequency ...')\n",
    "handle_desc = open('../data/pem/mention_freq.pickle', 'rb')\n",
    "mention2freq = pickle.load(handle_desc)\n",
    "print('Number of term in the collection: ', len(mention2freq))\n",
    "\n",
    "#given by create_term_req\n",
    "collection_size_terms = len(mention2pem)\n"
   ],
   "outputs": [
    {
     "output_type": "stream",
     "name": "stdout",
     "text": [
      "Loading mention2pem dictionary ...\n",
      "Loading entity description dictionary ...\n",
      "NUmber of entities:  2680002\n",
      "Loading dictionary of term frequency ...\n",
      "Number of term in the collection:  3506008\n"
     ]
    }
   ],
   "metadata": {}
  },
  {
   "cell_type": "code",
   "execution_count": 4,
   "source": [
    "list(mention2pem['reproduction'].keys())"
   ],
   "outputs": [
    {
     "output_type": "execute_result",
     "data": {
      "text/plain": [
       "['GO:0000003']"
      ]
     },
     "metadata": {},
     "execution_count": 4
    }
   ],
   "metadata": {}
  },
  {
   "cell_type": "code",
   "execution_count": 5,
   "source": [
    "list(mention2pem['reproduction'].values())\n"
   ],
   "outputs": [
    {
     "output_type": "execute_result",
     "data": {
      "text/plain": [
       "[1.0]"
      ]
     },
     "metadata": {},
     "execution_count": 5
    }
   ],
   "metadata": {}
  },
  {
   "cell_type": "code",
   "execution_count": 6,
   "source": [
    "entity2description['GO:0005578']\n"
   ],
   "outputs": [
    {
     "output_type": "execute_result",
     "data": {
      "text/plain": [
       "'#UNK'"
      ]
     },
     "metadata": {},
     "execution_count": 6
    }
   ],
   "metadata": {}
  },
  {
   "cell_type": "code",
   "execution_count": 7,
   "source": [
    "entity2description['GO:0031012']\n"
   ],
   "outputs": [
    {
     "output_type": "execute_result",
     "data": {
      "text/plain": [
       "('structure',\n",
       " 'cells',\n",
       " 'biochemical',\n",
       " 'tissues',\n",
       " 'biomechanical',\n",
       " 'lying',\n",
       " 'proteinaceous',\n",
       " 'structural',\n",
       " 'extracellular',\n",
       " 'support',\n",
       " 'matrisome',\n",
       " 'cues',\n",
       " 'matrix',\n",
       " 'external',\n",
       " 'provides')"
      ]
     },
     "metadata": {},
     "execution_count": 7
    }
   ],
   "metadata": {}
  },
  {
   "cell_type": "code",
   "execution_count": 4,
   "source": [
    "# load the NER tagger\n",
    "tagger = SequenceTagger.load(\n",
    "    '../resources/taggers/sota-ner-flair/best-model.pt')\n"
   ],
   "outputs": [
    {
     "output_type": "stream",
     "name": "stdout",
     "text": [
      "2021-09-14 10:17:47,655 loading file ../resources/taggers/sota-ner-flair/best-model.pt\n"
     ]
    }
   ],
   "metadata": {}
  },
  {
   "cell_type": "code",
   "execution_count": 5,
   "source": [
    "text='quaternary ammonium salt that is the monoiodide. sexual reproduction'\n",
    "get_mentions_ner(text,tagger)"
   ],
   "outputs": [
    {
     "output_type": "execute_result",
     "data": {
      "text/plain": [
       "(['quaternary ammonium salt'],\n",
       " [{'text': 'quaternary ammonium salt', 'start_pos': 0, 'end_pos': 24}])"
      ]
     },
     "metadata": {},
     "execution_count": 5
    }
   ],
   "metadata": {}
  },
  {
   "cell_type": "code",
   "execution_count": 76,
   "source": [
    "dictionarysearch_strategy = DictionaryRanking(mention2pem) \n",
    "queryranking_strategy = QueryEntityRanking(\n",
    "    entity2description=entity2description,\n",
    "    mention_freq=mention2freq,\n",
    "    mention2pem=mention2pem\n",
    "    )\n",
    "e_linker = EntityLinker(\n",
    "    ranking_strategy=queryranking_strategy,\n",
    "    ner_model=tagger,\n",
    "    mention2pem=mention2pem\n",
    "    )\n"
   ],
   "outputs": [],
   "metadata": {}
  },
  {
   "cell_type": "code",
   "execution_count": 57,
   "source": [
    "text = 'a quaternary ammonium salt that is the monoiodide'\n",
    "samples = e_linker.get_mentions_by_tokens_and_dict(text)\n",
    "_print_colorful_text(text,samples)\n",
    "# samples"
   ],
   "outputs": [
    {
     "output_type": "stream",
     "name": "stdout",
     "text": [
      "\n",
      "a quaternary \u001b[41m\u001b[30mammonium\u001b[0m \u001b[42m\u001b[30msalt\u001b[0m that is the monoiodide\n",
      "\n"
     ]
    }
   ],
   "metadata": {}
  },
  {
   "cell_type": "code",
   "execution_count": 58,
   "source": [
    "text='sexual reproduction'\n",
    "samples = e_linker.get_mentions_by_tokens_and_dict(text)\n",
    "_print_colorful_text(text, samples)\n"
   ],
   "outputs": [
    {
     "output_type": "stream",
     "name": "stdout",
     "text": [
      "\n",
      "sexual \u001b[41m\u001b[30mreproduction\u001b[0m\n",
      "\n"
     ]
    }
   ],
   "metadata": {}
  },
  {
   "cell_type": "code",
   "execution_count": 62,
   "source": [
    "text='Quaternary ammonium salt that is the monoiodide'\n",
    "samples = e_linker.get_mentions_by_tokens_and_dict(text)\n",
    "_print_colorful_text(text, samples)\n",
    "samples"
   ],
   "outputs": [
    {
     "output_type": "stream",
     "name": "stdout",
     "text": [
      "\n",
      "Quaternary \u001b[41m\u001b[30mammonium\u001b[0m \u001b[42m\u001b[30msalt\u001b[0m that is the monoiodide\n",
      "\n"
     ]
    },
    {
     "output_type": "execute_result",
     "data": {
      "text/plain": [
       "[{'text': 'ammonium', 'start_pos': 11, 'end_pos': 19},\n",
       " {'text': 'salt', 'start_pos': 20, 'end_pos': 24}]"
      ]
     },
     "metadata": {},
     "execution_count": 62
    }
   ],
   "metadata": {}
  },
  {
   "cell_type": "code",
   "execution_count": 63,
   "source": [
    "text = 'Quaternary ammonium salt that is the monoiodide. Sexual reproduction'\n",
    "mentions = e_linker.link_entities(text)\n",
    "_print_colorful_text(text, mentions)\n",
    "mentions"
   ],
   "outputs": [
    {
     "output_type": "stream",
     "name": "stdout",
     "text": [
      "\n",
      "Quaternary \u001b[41m\u001b[30mammonium\u001b[0m \u001b[42m\u001b[30msalt\u001b[0m that is the monoiodide. Sexual \u001b[43m\u001b[30mreproduction\u001b[0m\n",
      "\n"
     ]
    },
    {
     "output_type": "execute_result",
     "data": {
      "text/plain": [
       "[{'text': 'reproduction',\n",
       "  'start_pos': 56,\n",
       "  'end_pos': 68,\n",
       "  'entities': [('GO:0000003', 5.114009083705022)],\n",
       "  'best_entity': ('GO:0000003', 5.114009083705022)},\n",
       " {'start_pos': 20,\n",
       "  'text': 'salt',\n",
       "  'end_pos': 24,\n",
       "  'entities': [('CHEBI:26710', 0.375), ('CHEBI:24866', 790.2300610124876)],\n",
       "  'best_entity': ('CHEBI:24866', 790.2300610124876)},\n",
       " {'end_pos': 19,\n",
       "  'start_pos': 11,\n",
       "  'text': 'ammonium',\n",
       "  'entities': [('CHEBI:28938', 5.06361185964469)],\n",
       "  'best_entity': ('CHEBI:28938', 5.06361185964469)}]"
      ]
     },
     "metadata": {},
     "execution_count": 63
    }
   ],
   "metadata": {}
  },
  {
   "cell_type": "code",
   "execution_count": 64,
   "source": [
    "text='quaternary ammonium salt that is the monoiodide that can be found in some species with sexual reproduction reduced'\n",
    "mentions = e_linker.link_entities(text)\n",
    "_print_colorful_text(text, mentions)\n",
    "mentions\n"
   ],
   "outputs": [
    {
     "output_type": "stream",
     "name": "stdout",
     "text": [
      "\n",
      "quaternary \u001b[41m\u001b[30mammonium\u001b[0m \u001b[42m\u001b[30msalt\u001b[0m that is the monoiodide that can be found in some \u001b[43m\u001b[30mspecies\u001b[0m with sexual \u001b[44m\u001b[30mreproduction\u001b[0m \u001b[45m\u001b[30mreduced\u001b[0m\n",
      "\n"
     ]
    },
    {
     "output_type": "execute_result",
     "data": {
      "text/plain": [
       "[{'start_pos': 20,\n",
       "  'text': 'salt',\n",
       "  'end_pos': 24,\n",
       "  'entities': [('CHEBI:26710', 0.375), ('CHEBI:24866', 462.08449194900214)],\n",
       "  'best_entity': ('CHEBI:24866', 462.08449194900214)},\n",
       " {'start_pos': 107,\n",
       "  'text': 'reduced',\n",
       "  'end_pos': 114,\n",
       "  'entities': [('PATO:0000587', 1.919248235352937),\n",
       "   ('PATO:0001997', 1.2794988235686249)],\n",
       "  'best_entity': ('PATO:0001997', 1.2794988235686249)},\n",
       " {'end_pos': 19,\n",
       "  'start_pos': 11,\n",
       "  'text': 'ammonium',\n",
       "  'entities': [('CHEBI:28938', 2.948765741069345)],\n",
       "  'best_entity': ('CHEBI:28938', 2.948765741069345)},\n",
       " {'start_pos': 94,\n",
       "  'text': 'reproduction',\n",
       "  'end_pos': 106,\n",
       "  'entities': [('GO:0000003', 2.968299120520138)],\n",
       "  'best_entity': ('GO:0000003', 2.968299120520138)},\n",
       " {'end_pos': 81,\n",
       "  'text': 'species',\n",
       "  'start_pos': 74,\n",
       "  'entities': [('OBI:0100026', 0.998766954377312),\n",
       "   ('MCCV_000003', 0.002679679196868865),\n",
       "   ('NCBITaxon:species', 0.0013398395984344324)]}]"
      ]
     },
     "metadata": {},
     "execution_count": 64
    }
   ],
   "metadata": {}
  },
  {
   "cell_type": "code",
   "execution_count": 65,
   "source": [
    "text='A molecular entity having a net electric.'\n",
    "mentions = e_linker.link_entities(text)\n",
    "_print_colorful_text(text, mentions)\n",
    "mentions\n"
   ],
   "outputs": [
    {
     "output_type": "stream",
     "name": "stdout",
     "text": [
      "\n",
      "A \u001b[41m\u001b[30mmolecular entity\u001b[0m having a \u001b[42m\u001b[30mnet\u001b[0m electric.\n",
      "\n"
     ]
    },
    {
     "output_type": "execute_result",
     "data": {
      "text/plain": [
       "[{'text': 'net',\n",
       "  'end_pos': 31,\n",
       "  'start_pos': 28,\n",
       "  'entities': [('GO:0140644', 6.664883535521932)],\n",
       "  'best_entity': ('GO:0140644', 6.664883535521932)},\n",
       " {'text': 'molecular entity',\n",
       "  'start_pos': 2,\n",
       "  'end_pos': 18,\n",
       "  'entities': [('CHEBI:23367', 2.667553377723604)],\n",
       "  'best_entity': ('CHEBI:23367', 2.667553377723604)}]"
      ]
     },
     "metadata": {},
     "execution_count": 65
    }
   ],
   "metadata": {}
  },
  {
   "cell_type": "code",
   "execution_count": 68,
   "source": [
    "text=\"there's a molecular entity with electric charge\"\n",
    "mentions = e_linker.link_entities(text)\n",
    "_print_colorful_text(text, mentions)\n",
    "mentions\n"
   ],
   "outputs": [
    {
     "output_type": "stream",
     "name": "stdout",
     "text": [
      "\n",
      "there's a \u001b[41m\u001b[30mmolecular entity\u001b[0m with electric charge\n",
      "\n"
     ]
    },
    {
     "output_type": "execute_result",
     "data": {
      "text/plain": [
       "[{'end_pos': 26,\n",
       "  'text': 'molecular entity',\n",
       "  'start_pos': 10,\n",
       "  'entities': [('CHEBI:23367', 4.356820601798991)],\n",
       "  'best_entity': ('CHEBI:23367', 4.356820601798991)}]"
      ]
     },
     "metadata": {},
     "execution_count": 68
    }
   ],
   "metadata": {}
  },
  {
   "cell_type": "code",
   "execution_count": 85,
   "source": [
    "text = \"theres a molecular entity with electric charge\"\n",
    "mentions = e_linker.link_entities(text)\n",
    "_print_colorful_text(text, mentions)\n",
    "mentions\n"
   ],
   "outputs": [
    {
     "output_type": "stream",
     "name": "stdout",
     "text": [
      "('Analysing sentence:', 'theres a molecular entity with electric charge')\n",
      "('NER mentions:', [{'text': 'molecular entity', 'start_pos': 9, 'end_pos': 25}])\n",
      "('token mentions', [{'text': 's', 'start_pos': 5, 'end_pos': 6}, {'text': 'entity', 'start_pos': 19, 'end_pos': 25}])\n",
      "('Analizing mentions:',)\n",
      "({'start_pos': 9, 'end_pos': 25, 'text': 'molecular entity', 'entities': [('CHEBI:23367', 3.245904530608999)]},)\n",
      "([('CHEBI:23367', 3.245904530608999)],)\n",
      "([('CHEBI:23367', 3.245904530608999)],)\n",
      "({'text': 's', 'start_pos': 5, 'end_pos': 6, 'entities': [('CHEBI:29999', 2.95759679036954), ('CHEBI:17115', 0.3924854915524766), ('CHEBI:17909', 0.5062741561321537), ('CHEBI:26833', 5.185600936147622), ('CHEBI:36368', 0.4814570585727065), ('UO:0000010', 0.4064118505055581)]},)\n",
      "([('CHEBI:29999', 2.95759679036954), ('CHEBI:17115', 0.3924854915524766), ('CHEBI:17909', 0.5062741561321537), ('CHEBI:26833', 5.185600936147622), ('CHEBI:36368', 0.4814570585727065), ('UO:0000010', 0.4064118505055581)],)\n",
      "([('CHEBI:26833', 5.185600936147622), ('CHEBI:29999', 2.95759679036954), ('CHEBI:17909', 0.5062741561321537), ('CHEBI:36368', 0.4814570585727065), ('UO:0000010', 0.4064118505055581), ('CHEBI:17115', 0.3924854915524766)],)\n",
      "({'end_pos': 25, 'text': 'entity', 'start_pos': 19, 'entities': [('SIO:000000', 6.06683833587337), ('BFO:0000001', 2.56557840074247)]},)\n",
      "([('SIO:000000', 6.06683833587337), ('BFO:0000001', 2.56557840074247)],)\n",
      "([('SIO:000000', 6.06683833587337), ('BFO:0000001', 2.56557840074247)],)\n",
      "\n",
      "there\u001b[41m\u001b[30ms\u001b[0m a molecular \u001b[42m\u001b[30mentity\u001b[0m with electric charge\n",
      "\n"
     ]
    },
    {
     "output_type": "execute_result",
     "data": {
      "text/plain": [
       "[{'end_pos': 25,\n",
       "  'text': 'entity',\n",
       "  'start_pos': 19,\n",
       "  'entities': [('SIO:000000', 6.06683833587337),\n",
       "   ('BFO:0000001', 2.56557840074247)],\n",
       "  'best_entity': ('SIO:000000', 6.06683833587337)},\n",
       " {'text': 's',\n",
       "  'start_pos': 5,\n",
       "  'end_pos': 6,\n",
       "  'entities': [('CHEBI:29999', 2.95759679036954),\n",
       "   ('CHEBI:17115', 0.3924854915524766),\n",
       "   ('CHEBI:17909', 0.5062741561321537),\n",
       "   ('CHEBI:26833', 5.185600936147622),\n",
       "   ('CHEBI:36368', 0.4814570585727065),\n",
       "   ('UO:0000010', 0.4064118505055581)],\n",
       "  'best_entity': ('CHEBI:26833', 5.185600936147622)}]"
      ]
     },
     "metadata": {},
     "execution_count": 85
    }
   ],
   "metadata": {}
  },
  {
   "cell_type": "code",
   "execution_count": 25,
   "source": [
    "text = 'The fluoride salt of beryllium (+2 oxidation state). In the solid state it exists as a glass, with four-coordinate Be(2+) tetrahedral centres and two-coordinate fluoride centres. As a gas it adopts a linear triatomic structure and in the liquid state a fluctuating tetrahedral structure. In protein crystallography it is used as a mimic of phosphate.'\n",
    "e_linker.link_entities(text)"
   ],
   "outputs": [
    {
     "output_type": "stream",
     "name": "stdout",
     "text": [
      "the fluoride salt of beryllium (+2 oxidation state). in the solid state it exists as a glass, with four-coordinate be(2+) tetrahedral centres and two-coordinate fluoride centres. as a gas it adopts a linear triatomic structure and in the liquid state a fluctuating tetrahedral structure. in protein crystallography it is used as a mimic of phosphate.\n",
      "Analizing mentions: ['fluoride salt']\n"
     ]
    },
    {
     "output_type": "execute_result",
     "data": {
      "text/plain": [
       "{'fluoride salt': ('CHEBI:24060', 2.4392465042187164)}"
      ]
     },
     "metadata": {},
     "execution_count": 25
    }
   ],
   "metadata": {}
  },
  {
   "cell_type": "code",
   "execution_count": 26,
   "source": [
    "e_linker.link_entities('The fluoride salt of beryllium (+2 oxidation state)')\n"
   ],
   "outputs": [
    {
     "output_type": "stream",
     "name": "stdout",
     "text": [
      "the fluoride salt of beryllium (+2 oxidation state)\n",
      "Analizing mentions: ['fluoride salt']\n"
     ]
    },
    {
     "output_type": "execute_result",
     "data": {
      "text/plain": [
       "{'fluoride salt': ('CHEBI:24060', 41.07384692550316)}"
      ]
     },
     "metadata": {},
     "execution_count": 26
    }
   ],
   "metadata": {}
  },
  {
   "cell_type": "code",
   "execution_count": 33,
   "source": [
    "e_linker.link_entities(\n",
    "    'In the solid state it exists as a glass, with four-coordinate Be(2+) tetrahedral centres and two-coordinate fluoride centres.')\n"
   ],
   "outputs": [
    {
     "output_type": "stream",
     "name": "stdout",
     "text": [
      "Anlysing sentence: in the solid state it exists as a glass, with four-coordinate be(2+) tetrahedral centres and two-coordinate fluoride centres.\n",
      "Analizing mentions: []\n"
     ]
    },
    {
     "output_type": "execute_result",
     "data": {
      "text/plain": [
       "{}"
      ]
     },
     "metadata": {},
     "execution_count": 33
    }
   ],
   "metadata": {}
  },
  {
   "cell_type": "code",
   "execution_count": 34,
   "source": [
    "e_linker.link_entities(\n",
    "    ' As a gas it adopts a linear triatomic structure and in the liquid state a fluctuating tetrahedral structure.')\n"
   ],
   "outputs": [
    {
     "output_type": "stream",
     "name": "stdout",
     "text": [
      "Anlysing sentence: as a gas it adopts a linear triatomic structure and in the liquid state a fluctuating tetrahedral structure.\n",
      "Analizing mentions: []\n"
     ]
    },
    {
     "output_type": "execute_result",
     "data": {
      "text/plain": [
       "{}"
      ]
     },
     "metadata": {},
     "execution_count": 34
    }
   ],
   "metadata": {}
  },
  {
   "cell_type": "code",
   "execution_count": 32,
   "source": [
    "e_linker.link_entities('In protein crystallography it is used as a mimic of phosphate.')"
   ],
   "outputs": [
    {
     "output_type": "stream",
     "name": "stdout",
     "text": [
      "Anlysing sentence: in protein crystallography it is used as a mimic of phosphate.\n",
      "Analizing mentions: []\n"
     ]
    },
    {
     "output_type": "execute_result",
     "data": {
      "text/plain": [
       "{}"
      ]
     },
     "metadata": {},
     "execution_count": 32
    }
   ],
   "metadata": {}
  },
  {
   "cell_type": "code",
   "execution_count": 51,
   "source": [
    "text = \"\"\"The process in which an antigen-presenting cell expresses peptide antigen in \n",
    "association with an MHC protein complex on its cell surface, including proteolysis and \n",
    "transport steps for the peptide antigen both prior to and following assembly with the MHC protein complex.\n",
    " The peptide antigen is typically, but not always, processed from an endogenous or exogenous protein.\"\"\"\n",
    "\n",
    "e_linker.link_entities(text)\n"
   ],
   "outputs": [
    {
     "output_type": "stream",
     "name": "stdout",
     "text": [
      "2021-09-13 16:39:38,313 Warning: An empty Sentence was created! Are there empty strings in your dataset?\n"
     ]
    },
    {
     "output_type": "execute_result",
     "data": {
      "text/plain": [
       "[{'start_pos': 278,\n",
       "  'end_pos': 293,\n",
       "  'text': 'peptide antigen',\n",
       "  'entities': [('CHEBI:166824', 1.5754689061193654)],\n",
       "  'best_entity': ('CHEBI:166824', 1.5754689061193654)},\n",
       " {'end_pos': 205,\n",
       "  'start_pos': 198,\n",
       "  'text': 'antigen',\n",
       "  'entities': [('CHEBI:59132', 2.3005372039812224),\n",
       "   ('SIO:010419', 0.27572366689345784)],\n",
       "  'best_entity': ('SIO:010419', 0.27572366689345784)},\n",
       " {'end_pos': 109,\n",
       "  'text': 'protein',\n",
       "  'start_pos': 102,\n",
       "  'entities': [('CHEBI:16541', 0.2701529759025882),\n",
       "   ('CHEBI:36080', 15.931271178001444),\n",
       "   ('PR:000000001', 113.17678589949696),\n",
       "   ('SIO:010043', 0.293584399220485)],\n",
       "  'best_entity': ('SIO:010043', 0.293584399220485)},\n",
       " {'start_pos': 4,\n",
       "  'text': 'process',\n",
       "  'end_pos': 11,\n",
       "  'entities': [('BFO:0000015', 1.2460255469628874),\n",
       "   ('UBERON:0004529', 0.08467235649729467),\n",
       "   ('ProcessualEntity', 0.046147671421455524),\n",
       "   ('SIO:000006', 0.5114700249211321),\n",
       "   ('ZFA:0001637', 0.017610971339665847)],\n",
       "  'best_entity': ('ZFA:0001637', 0.017610971339665847)},\n",
       " {'text': 'peptide',\n",
       "  'start_pos': 190,\n",
       "  'end_pos': 197,\n",
       "  'entities': [('CHEBI:16670', 1.068335250280117),\n",
       "   ('PR:000018263', 0.0703576678098971),\n",
       "   ('PR:000018264', 0.0003919647231749143),\n",
       "   ('SIO:001425', 0.00012040271435946868)],\n",
       "  'best_entity': ('SIO:001425', 0.00012040271435946868)},\n",
       " {'start_pos': 43,\n",
       "  'text': 'cell',\n",
       "  'end_pos': 47,\n",
       "  'entities': [('CL:0000000', 1.3578640961840265),\n",
       "   ('GO:0005623', 0.668631010120962),\n",
       "   ('SIO:010001', 0.005618747984209765),\n",
       "   ('ZFA:0009000', 0.6449675683419837)],\n",
       "  'best_entity': ('ZFA:0009000', 0.6449675683419837)},\n",
       " {'end_pos': 137,\n",
       "  'start_pos': 130,\n",
       "  'text': 'surface',\n",
       "  'entities': [('UBERON:0002416', 1.2032616130579108),\n",
       "   ('BSPO:0000005', 3.3910569812115035)],\n",
       "  'best_entity': ('BSPO:0000005', 3.3910569812115035)},\n",
       " {'start_pos': 256,\n",
       "  'text': 'protein',\n",
       "  'end_pos': 263,\n",
       "  'entities': [('CHEBI:16541', 0.2701529759025882),\n",
       "   ('CHEBI:36080', 15.931271178001444),\n",
       "   ('PR:000000001', 113.17678589949696),\n",
       "   ('SIO:010043', 0.293584399220485)],\n",
       "  'best_entity': ('SIO:010043', 0.293584399220485)},\n",
       " {'start_pos': 278,\n",
       "  'text': 'peptide',\n",
       "  'end_pos': 285,\n",
       "  'entities': [('CHEBI:16670', 1.068335250280117),\n",
       "   ('PR:000018263', 0.0703576678098971),\n",
       "   ('PR:000018264', 0.0003919647231749143),\n",
       "   ('SIO:001425', 0.00012040271435946868)],\n",
       "  'best_entity': ('SIO:001425', 0.00012040271435946868)},\n",
       " {'text': 'peptide',\n",
       "  'end_pos': 65,\n",
       "  'start_pos': 58,\n",
       "  'entities': [('CHEBI:16670', 1.068335250280117),\n",
       "   ('PR:000018263', 0.0703576678098971),\n",
       "   ('PR:000018264', 0.0003919647231749143),\n",
       "   ('SIO:001425', 0.00012040271435946868)],\n",
       "  'best_entity': ('SIO:001425', 0.00012040271435946868)},\n",
       " {'start_pos': 24,\n",
       "  'end_pos': 31,\n",
       "  'text': 'antigen',\n",
       "  'entities': [('CHEBI:59132', 2.3005372039812224),\n",
       "   ('SIO:010419', 0.27572366689345784)],\n",
       "  'best_entity': ('SIO:010419', 0.27572366689345784)},\n",
       " {'end_pos': 293,\n",
       "  'start_pos': 286,\n",
       "  'text': 'antigen',\n",
       "  'entities': [('CHEBI:59132', 2.3005372039812224),\n",
       "   ('SIO:010419', 0.27572366689345784)],\n",
       "  'best_entity': ('SIO:010419', 0.27572366689345784)},\n",
       " {'text': 'association',\n",
       "  'start_pos': 78,\n",
       "  'end_pos': 89,\n",
       "  'entities': [('SIO:000897', 1.5832172214582296)],\n",
       "  'best_entity': ('SIO:000897', 1.5832172214582296)},\n",
       " {'start_pos': 149,\n",
       "  'end_pos': 160,\n",
       "  'text': 'proteolysis',\n",
       "  'entities': [('GO:0006508', 1.4705493589369527)],\n",
       "  'best_entity': ('GO:0006508', 1.4705493589369527)},\n",
       " {'text': 'protein',\n",
       "  'end_pos': 373,\n",
       "  'start_pos': 366,\n",
       "  'entities': [('CHEBI:16541', 0.2701529759025882),\n",
       "   ('CHEBI:36080', 15.931271178001444),\n",
       "   ('PR:000000001', 113.17678589949696),\n",
       "   ('SIO:010043', 0.293584399220485)],\n",
       "  'best_entity': ('SIO:010043', 0.293584399220485)},\n",
       " {'text': 'cell',\n",
       "  'start_pos': 125,\n",
       "  'end_pos': 129,\n",
       "  'entities': [('CL:0000000', 1.3578640961840265),\n",
       "   ('GO:0005623', 0.668631010120962),\n",
       "   ('SIO:010001', 0.005618747984209765),\n",
       "   ('ZFA:0009000', 0.6449675683419837)],\n",
       "  'best_entity': ('ZFA:0009000', 0.6449675683419837)},\n",
       " {'start_pos': 110,\n",
       "  'end_pos': 117,\n",
       "  'text': 'complex',\n",
       "  'entities': [('PATO:0001504', 1.5906938289863541)],\n",
       "  'best_entity': ('PATO:0001504', 1.5906938289863541)},\n",
       " {'start_pos': 66,\n",
       "  'end_pos': 73,\n",
       "  'text': 'antigen',\n",
       "  'entities': [('CHEBI:59132', 2.3005372039812224),\n",
       "   ('SIO:010419', 0.27572366689345784)],\n",
       "  'best_entity': ('SIO:010419', 0.27572366689345784)},\n",
       " {'end_pos': 271,\n",
       "  'start_pos': 264,\n",
       "  'text': 'complex',\n",
       "  'entities': [('PATO:0001504', 1.5906938289863541)],\n",
       "  'best_entity': ('PATO:0001504', 1.5906938289863541)},\n",
       " {'end_pos': 175,\n",
       "  'start_pos': 166,\n",
       "  'text': 'transport',\n",
       "  'entities': [('GO:0006810', 2.182631603528351)],\n",
       "  'best_entity': ('GO:0006810', 2.182631603528351)}]"
      ]
     },
     "metadata": {},
     "execution_count": 51
    }
   ],
   "metadata": {}
  },
  {
   "cell_type": "code",
   "execution_count": 43,
   "source": [
    "e_linker.link_entities('A tiger is a carnovire of the mammal family.')"
   ],
   "outputs": [
    {
     "output_type": "stream",
     "name": "stdout",
     "text": [
      "Anlysing sentence: a tiger is a carnovire of the mammal family.\n",
      "Analizing mentions: ['tiger', 'mammal', 'family']\n"
     ]
    },
    {
     "output_type": "execute_result",
     "data": {
      "text/plain": [
       "{'tiger': ('NCBITaxon:9694', 16.439691350989236),\n",
       " 'mammal': ('NCBITaxon:40674', 1.0),\n",
       " 'family': ('STATO:0000257', 9.707100448364667)}"
      ]
     },
     "metadata": {},
     "execution_count": 43
    }
   ],
   "metadata": {}
  },
  {
   "cell_type": "code",
   "execution_count": 46,
   "source": [
    "\n",
    "text = \"\"\"Natural gas consists primarily of methane that is clean, non-toxic, and has abundant natural reserves. \n",
    "However, methane is also a greenhouse gas whose greenhouse effect is more than 20 times than that of carbon dioxide. \n",
    "The conversion of methane into other value-added chemicals has been an important research area in the field of catalysis for many years. \n",
    "One of the most challenging processes of high industrial importance is the conversion of methane to methanol (CHEBI:17790), \n",
    "a simple alcohol that is liquid under ambient conditions and can be easily stored and transported compared to methane [1]. \n",
    "Methanol is used as an important chemical raw material to make products such as paints and plastics and as an additive to gasoline [2].\"\"\"\n",
    "e_linker.link_entities(text)\n"
   ],
   "outputs": [
    {
     "output_type": "stream",
     "name": "stdout",
     "text": [
      "Anlysing sentence: natural gas consists primarily of methane that is clean, non-toxic, and has abundant natural reserves.\n",
      "Anlysing sentence: \n",
      "however, methane is also a greenhouse gas whose greenhouse effect is more than 20 times than that of carbon dioxide.\n",
      "Anlysing sentence: \n",
      "the conversion of methane into other value-added chemicals has been an important research area in the field of catalysis for many years.\n",
      "Anlysing sentence: \n",
      "one of the most challenging processes of high industrial importance is the conversion of methane to methanol (chebi:17790), \n",
      "a simple alcohol that is liquid under ambient conditions and can be easily stored and transported compared to methane [1].\n",
      "Anlysing sentence: \n",
      "methanol is used as an important chemical raw material to make products such as paints and plastics and as an additive to gasoline [2].\n",
      "Analizing mentions: ['field', 'methane', 'alcohol', 'methanol', 'simple', 'processes', 'area', 'gas', 'carbon', 'liquid', 'toxic']\n"
     ]
    },
    {
     "output_type": "execute_result",
     "data": {
      "text/plain": [
       "{'field': ('UBERON:0007688', 1.1765244958215784),\n",
       " 'methane': ('CHEBI:16183', 2.051886417753274),\n",
       " 'alcohol': ('CHEBI:16236', 0.0005115270212291953),\n",
       " 'methanol': ('CHEBI:17790', 1.2641306724996488),\n",
       " 'simple': ('PATO:0001503', 1.2370289502089358),\n",
       " 'processes': ('UBERON:0004529', 1.1592570353598035),\n",
       " 'area': ('SIO:000045', 0.6359842547183276),\n",
       " 'gas': ('PATO:0001737', 0.613474414998096),\n",
       " 'carbon': ('CHEBI:27594', 0.3731910408796742),\n",
       " 'liquid': ('PATO:0001735', 1.2884007958961678),\n",
       " 'toxic': ('SIO:001009', 1.3050453744086419)}"
      ]
     },
     "metadata": {},
     "execution_count": 46
    }
   ],
   "metadata": {}
  },
  {
   "cell_type": "code",
   "execution_count": 43,
   "source": [
    "mentions = [{'text': 'reproduction',\n",
    "             'start_pos': 56,\n",
    "             'end_pos': 68}\n",
    "            ,{'start_pos': 20,\n",
    "             'text': 'salt',\n",
    "             'end_pos': 24}\n",
    "            ,{'end_pos': 19,\n",
    "             'start_pos': 11,\n",
    "             'text': 'ammonium'}]\n",
    "\n",
    "text = 'Quaternary ammonium salt that is the monoiodide. Sexual reproduction'\n",
    "_print_colorful_text(text,mentions)"
   ],
   "outputs": [
    {
     "output_type": "stream",
     "name": "stdout",
     "text": [
      "\n",
      "Quaternary \u001b[41m\u001b[30mammonium\u001b[0m \u001b[42m\u001b[30msalt\u001b[0m that is the monoiodide. Sexual \u001b[43m\u001b[30mreproduction\u001b[0m\n",
      "\n"
     ]
    }
   ],
   "metadata": {}
  },
  {
   "cell_type": "code",
   "execution_count": 42,
   "source": [
    "sort_idxs = sorted(range(len(mentions)),\n",
    "                   key=lambda idx: mentions[idx]['start_pos'])\n",
    "sort_idxs\n"
   ],
   "outputs": [
    {
     "output_type": "execute_result",
     "data": {
      "text/plain": [
       "[2, 1, 0]"
      ]
     },
     "metadata": {},
     "execution_count": 42
    }
   ],
   "metadata": {}
  },
  {
   "cell_type": "code",
   "execution_count": 30,
   "source": [],
   "outputs": [
    {
     "output_type": "execute_result",
     "data": {
      "text/plain": [
       "[0, 1, 2]"
      ]
     },
     "metadata": {},
     "execution_count": 30
    }
   ],
   "metadata": {}
  },
  {
   "cell_type": "code",
   "execution_count": null,
   "source": [],
   "outputs": [],
   "metadata": {}
  }
 ],
 "metadata": {
  "orig_nbformat": 4,
  "language_info": {
   "name": "python",
   "version": "3.8.5",
   "mimetype": "text/x-python",
   "codemirror_mode": {
    "name": "ipython",
    "version": 3
   },
   "pygments_lexer": "ipython3",
   "nbconvert_exporter": "python",
   "file_extension": ".py"
  },
  "kernelspec": {
   "name": "python3",
   "display_name": "Python 3.8.5 64-bit ('ontonerd': conda)"
  },
  "interpreter": {
   "hash": "f7111a28d93937e44de81b263355d7295881e69712709cd005f9d5c465abfe2b"
  }
 },
 "nbformat": 4,
 "nbformat_minor": 2
}