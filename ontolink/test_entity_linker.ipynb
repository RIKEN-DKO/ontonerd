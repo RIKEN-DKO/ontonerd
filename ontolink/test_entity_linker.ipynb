{
 "cells": [
  {
   "cell_type": "code",
   "execution_count": 1,
   "source": [
    "%load_ext autoreload\n",
    "%autoreload 2\n"
   ],
   "outputs": [],
   "metadata": {}
  },
  {
   "cell_type": "code",
   "execution_count": 2,
   "source": [
    "\"\"\"Computing the score \n",
    "    score(e;q,m) = P (e|q,m) ∝ P (e|m)P (q|e) \n",
    "\"\"\"\n",
    "from termcolor import colored\n",
    "from tabulate import tabulate\n",
    "import pickle5 as pickle\n",
    "\n",
    "import time\n",
    "from entity_linker import EntityLinker\n",
    "from flair.models import SequenceTagger\n"
   ],
   "outputs": [],
   "metadata": {}
  },
  {
   "cell_type": "code",
   "execution_count": 3,
   "source": [
    "#loading dicitonary of commonness,\n",
    "print('Loading mention2pem dictionary ...')\n",
    "handle = open('../data/pem/pem.pickle', 'rb')\n",
    "mention2pem = pickle.load(handle)\n",
    "\n",
    "\n",
    "print('Loading entity description dictionary ...')\n",
    "handle_desc = open('../data/pem/entity2description.pickle', 'rb')\n",
    "entity2description = pickle.load(handle_desc)\n",
    "print('NUmber of entities: ', len(entity2description))\n",
    "\n",
    "print('Loading dictionary of term frequency ...')\n",
    "handle_desc = open('../data/pem/mention_freq.pickle', 'rb')\n",
    "mention2freq = pickle.load(handle_desc)\n",
    "print('Number of term in the collection: ', len(mention2freq))\n",
    "\n",
    "#given by create_term_req\n",
    "collection_size_terms = len(mention2pem)\n"
   ],
   "outputs": [
    {
     "output_type": "stream",
     "name": "stdout",
     "text": [
      "Loading mention2pem dictionary ...\n",
      "Loading entity description dictionary ...\n",
      "NUmber of entities:  2680002\n",
      "Loading dictionary of term frequency ...\n",
      "Number of term in the collection:  3506008\n"
     ]
    }
   ],
   "metadata": {}
  },
  {
   "cell_type": "code",
   "execution_count": 4,
   "source": [
    "list(mention2pem['reproduction'].keys())"
   ],
   "outputs": [
    {
     "output_type": "execute_result",
     "data": {
      "text/plain": [
       "['GO:0000003']"
      ]
     },
     "metadata": {},
     "execution_count": 4
    }
   ],
   "metadata": {}
  },
  {
   "cell_type": "code",
   "execution_count": 5,
   "source": [
    "list(mention2pem['reproduction'].values())\n"
   ],
   "outputs": [
    {
     "output_type": "execute_result",
     "data": {
      "text/plain": [
       "[1.0]"
      ]
     },
     "metadata": {},
     "execution_count": 5
    }
   ],
   "metadata": {}
  },
  {
   "cell_type": "code",
   "execution_count": 12,
   "source": [
    "entity2description['GO:0005578']\n"
   ],
   "outputs": [
    {
     "output_type": "execute_result",
     "data": {
      "text/plain": [
       "()"
      ]
     },
     "metadata": {},
     "execution_count": 12
    }
   ],
   "metadata": {}
  },
  {
   "cell_type": "code",
   "execution_count": 13,
   "source": [
    "entity2description['GO:0031012']\n"
   ],
   "outputs": [
    {
     "output_type": "execute_result",
     "data": {
      "text/plain": [
       "('lying',\n",
       " 'tissues',\n",
       " 'support',\n",
       " 'biochemical',\n",
       " 'matrisome',\n",
       " 'structure',\n",
       " 'external',\n",
       " 'matrix',\n",
       " 'extracellular',\n",
       " 'cells',\n",
       " 'cues',\n",
       " 'proteinaceous',\n",
       " 'structural',\n",
       " 'biomechanical',\n",
       " 'provides')"
      ]
     },
     "metadata": {},
     "execution_count": 13
    }
   ],
   "metadata": {}
  },
  {
   "cell_type": "code",
   "execution_count": 6,
   "source": [
    "# load the NER tagger\n",
    "tagger = SequenceTagger.load(\n",
    "    '../resources/taggers/sota-ner-flair/best-model.pt')\n"
   ],
   "outputs": [
    {
     "output_type": "stream",
     "name": "stdout",
     "text": [
      "2021-09-08 10:52:13,394 loading file ../resources/taggers/sota-ner-flair/best-model.pt\n"
     ]
    }
   ],
   "metadata": {}
  },
  {
   "cell_type": "code",
   "execution_count": 7,
   "source": [
    "e_linker = EntityLinker(mention2pem, entity2description,\n",
    "                        mention2freq, collection_size_terms,ner_model=tagger)\n"
   ],
   "outputs": [
    {
     "output_type": "stream",
     "name": "stdout",
     "text": [
      "(2680002,)\n"
     ]
    }
   ],
   "metadata": {}
  },
  {
   "cell_type": "code",
   "execution_count": 9,
   "source": [
    "e_linker.link_entities('a quaternary ammonium salt that is the monoiodide')"
   ],
   "outputs": [
    {
     "output_type": "stream",
     "name": "stdout",
     "text": [
      "Analizing mentions: ['quaternary ammonium salt']\n"
     ]
    },
    {
     "output_type": "execute_result",
     "data": {
      "text/plain": [
       "{}"
      ]
     },
     "metadata": {},
     "execution_count": 9
    }
   ],
   "metadata": {}
  },
  {
   "cell_type": "code",
   "execution_count": 10,
   "source": [
    "mention2pem['quaternary ammonium salt']\n"
   ],
   "outputs": [
    {
     "output_type": "execute_result",
     "data": {
      "text/plain": [
       "{'CHEBI:35273': 1.0}"
      ]
     },
     "metadata": {},
     "execution_count": 10
    }
   ],
   "metadata": {}
  }
 ],
 "metadata": {
  "orig_nbformat": 4,
  "language_info": {
   "name": "python",
   "version": "3.8.5",
   "mimetype": "text/x-python",
   "codemirror_mode": {
    "name": "ipython",
    "version": 3
   },
   "pygments_lexer": "ipython3",
   "nbconvert_exporter": "python",
   "file_extension": ".py"
  },
  "kernelspec": {
   "name": "python3",
   "display_name": "Python 3.8.5 64-bit ('ontonerd': conda)"
  },
  "interpreter": {
   "hash": "f7111a28d93937e44de81b263355d7295881e69712709cd005f9d5c465abfe2b"
  }
 },
 "nbformat": 4,
 "nbformat_minor": 2
}