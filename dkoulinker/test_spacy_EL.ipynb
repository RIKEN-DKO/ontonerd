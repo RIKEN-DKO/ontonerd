{
 "cells": [
  {
   "cell_type": "code",
   "execution_count": 1,
   "source": [
    "import sys\n",
    "import spacy\n",
    "import time\n",
    "from spacy.kb import KnowledgeBase\n",
    "from spacy.ml.models import load_kb\n",
    "from spacy.training import Example\n",
    "import config\n",
    "from config import SPACY_DATASET\n",
    "from pathlib import Path\n",
    "import obonet\n",
    "import os\n",
    "import pickle\n",
    "import random\n",
    "from dataset_creation.utils import get_synonyms_formatted\n",
    "from spacy.util import minibatch, compounding\n"
   ],
   "outputs": [],
   "metadata": {}
  },
  {
   "cell_type": "markdown",
   "source": [
    "## Testing  NER"
   ],
   "metadata": {}
  },
  {
   "cell_type": "code",
   "execution_count": 2,
   "source": [
    "nlp = spacy.load(\"../data/spacy/model-best/\")\n"
   ],
   "outputs": [],
   "metadata": {}
  },
  {
   "cell_type": "code",
   "execution_count": 7,
   "source": [
    "text = \"Sexual reproduction\""
   ],
   "outputs": [],
   "metadata": {}
  },
  {
   "cell_type": "code",
   "execution_count": 8,
   "source": [
    "for ent in doc.ents:\n",
    "    print(ent.text, ent.start_char, ent.end_char, ent.label_)\n"
   ],
   "outputs": [
    {
     "output_type": "stream",
     "name": "stdout",
     "text": [
      "reproduction 7 19 ONTO\n"
     ]
    }
   ],
   "metadata": {}
  },
  {
   "cell_type": "code",
   "execution_count": 14,
   "source": [
    "text = \"\"\"The formation of multicellular or syncytial spore via septations derived from meiosis. \n",
    "A multicellular or syncytial spore is a structure that can be used for dissemination, for survival of adverse \n",
    "conditions because of its heat and dessication resistance, and/or for reproduction.\"\"\"\n",
    "doc = nlp(text)\n",
    "for ent in doc.ents:\n",
    "    print(ent.text, ent.start_char, ent.end_char, ent.label_)\n"
   ],
   "outputs": [],
   "metadata": {}
  },
  {
   "cell_type": "code",
   "execution_count": 16,
   "source": [
    "text = \"\"\"Any process that modulates the frequency, rate or extent of conidium formation, \n",
    "a process of producing non-motile spores, called conidia, via mitotic asexual reproduction in higher fungi. \n",
    "Conidia are haploid cells genetically identical to their haploid parent. They are produced by conversion of \n",
    "hyphal elements, or are borne on\n",
    " sporogenous cells on or within specialized structures termed conidiophores, and participate in dispersal of the fungus.\"\"\"\n",
    "doc = nlp(text)\n",
    "for ent in doc.ents:\n",
    "    print(ent.text, ent.start_char, ent.end_char, ent.label_)\n"
   ],
   "outputs": [],
   "metadata": {}
  },
  {
   "cell_type": "code",
   "execution_count": 18,
   "source": [
    "text = 'via mitotic asexual reproduction in higher fungi'\n",
    "doc = nlp(text)\n",
    "for ent in doc.ents:\n",
    "    print(ent.text, ent.start_char, ent.end_char, ent.label_)\n"
   ],
   "outputs": [],
   "metadata": {}
  },
  {
   "cell_type": "code",
   "execution_count": 20,
   "source": [
    "\n",
    "text = 'obsolete thioredoxin pathway'\n",
    "doc = nlp(text)\n",
    "for ent in doc.ents:\n",
    "    print(ent.text, ent.start_char, ent.end_char, ent.label_)\n"
   ],
   "outputs": [
    {
     "output_type": "stream",
     "name": "stdout",
     "text": [
      "thioredoxin pathway 9 28 ONTO\n"
     ]
    }
   ],
   "metadata": {}
  }
 ],
 "metadata": {
  "orig_nbformat": 4,
  "language_info": {
   "name": "python",
   "version": "3.8.11",
   "mimetype": "text/x-python",
   "codemirror_mode": {
    "name": "ipython",
    "version": 3
   },
   "pygments_lexer": "ipython3",
   "nbconvert_exporter": "python",
   "file_extension": ".py"
  },
  "kernelspec": {
   "name": "python3",
   "display_name": "Python 3.8.11 64-bit ('spacy': conda)"
  },
  "interpreter": {
   "hash": "c0cc8a454b5407b0b2706930e0414ec4f2de9ce407294ace7eb8c719cd577170"
  }
 },
 "nbformat": 4,
 "nbformat_minor": 2
}