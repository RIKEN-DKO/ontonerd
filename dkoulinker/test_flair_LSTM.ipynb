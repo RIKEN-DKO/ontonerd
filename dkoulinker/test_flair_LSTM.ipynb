{
 "cells": [
  {
   "cell_type": "code",
   "execution_count": 1,
   "source": [
    "from flair.data import Sentence\n",
    "from flair.models import SequenceTagger\n",
    "\n",
    "# make a sentence\n",
    "\n",
    "\n",
    "# load the NER tagger\n",
    "tagger = SequenceTagger.load('../resources/taggers/sota-ner-flair/best-model.pt')\n",
    "\n",
    "\n"
   ],
   "outputs": [
    {
     "output_type": "stream",
     "name": "stdout",
     "text": [
      "2021-09-13 13:00:30,160 loading file ../resources/taggers/sota-ner-flair/best-model.pt\n"
     ]
    }
   ],
   "metadata": {}
  },
  {
   "cell_type": "code",
   "execution_count": 3,
   "source": [
    "def tag_sentence(text):\n",
    "    sentence = Sentence(text)\n",
    "    # run NER over sentence\n",
    "    tagger.predict(sentence)\n",
    "\n",
    "    print(sentence)\n",
    "    print('The following NER tags are found:')\n",
    "\n",
    "    # iterate over entities and print\n",
    "    for entity in sentence.get_spans('ner'):\n",
    "        print(entity)\n"
   ],
   "outputs": [],
   "metadata": {}
  },
  {
   "cell_type": "code",
   "execution_count": 6,
   "source": [
    "tag_sentence('Asexual Reproduction')\n"
   ],
   "outputs": [
    {
     "output_type": "stream",
     "name": "stdout",
     "text": [
      "Sentence: \"Asexual Reproduction\"   [− Tokens: 2  − Token-Labels: \"Asexual Reproduction <B>\"]\n",
      "The following NER tags are found:\n",
      "Span [2]: \"Reproduction\"   [− Labels: B (0.5819)]\n"
     ]
    }
   ],
   "metadata": {}
  },
  {
   "cell_type": "code",
   "execution_count": 11,
   "source": [
    "text = \"\"\"During sexual reproduction, the creation of a single nucleus from multiple nuclei \n",
    "as a result of fusing the lipid bilayers that surround each nuclei. This occurs after cytogamy.\"\"\"\n",
    "tag_sentence(text)\n"
   ],
   "outputs": [
    {
     "output_type": "stream",
     "name": "stdout",
     "text": [
      "Sentence: \"During sexual reproduction , the creation of a single nucleus from multiple nuclei as a result of fusing the lipid bilayers that surround each nuclei . This occurs after cytogamy .\"   [− Tokens: 31]\n",
      "The following NER tags are found:\n"
     ]
    }
   ],
   "metadata": {}
  },
  {
   "cell_type": "code",
   "execution_count": 12,
   "source": [
    "tag_sentence('sexual reproduction')"
   ],
   "outputs": [
    {
     "output_type": "stream",
     "name": "stdout",
     "text": [
      "Sentence: \"sexual reproduction\"   [− Tokens: 2  − Token-Labels: \"sexual reproduction <B>\"]\n",
      "The following NER tags are found:\n",
      "Span [2]: \"reproduction\"   [− Labels: B (0.766)]\n"
     ]
    }
   ],
   "metadata": {}
  },
  {
   "cell_type": "code",
   "execution_count": 13,
   "source": [
    "tag_sentence('during sexual reproduction')\n"
   ],
   "outputs": [
    {
     "output_type": "stream",
     "name": "stdout",
     "text": [
      "Sentence: \"during sexual reproduction\"   [− Tokens: 3]\n",
      "The following NER tags are found:\n"
     ]
    }
   ],
   "metadata": {}
  },
  {
   "cell_type": "code",
   "execution_count": 14,
   "source": [
    "tag_sentence('bening neoplasm of the cartilage')\n"
   ],
   "outputs": [
    {
     "output_type": "stream",
     "name": "stdout",
     "text": [
      "Sentence: \"bening neoplasm of the cartilage\"   [− Tokens: 5  − Token-Labels: \"bening neoplasm <B> of the cartilage\"]\n",
      "The following NER tags are found:\n",
      "Span [2]: \"neoplasm\"   [− Labels: B (0.8139)]\n"
     ]
    }
   ],
   "metadata": {}
  },
  {
   "cell_type": "code",
   "execution_count": 15,
   "source": [
    "tag_sentence('bening neoplasm of ')\n"
   ],
   "outputs": [
    {
     "output_type": "stream",
     "name": "stdout",
     "text": [
      "Sentence: \"bening neoplasm of\"   [− Tokens: 3  − Token-Labels: \"bening neoplasm <B> of\"]\n",
      "The following NER tags are found:\n",
      "Span [2]: \"neoplasm\"   [− Labels: B (0.9495)]\n"
     ]
    }
   ],
   "metadata": {}
  },
  {
   "cell_type": "code",
   "execution_count": 19,
   "source": [
    "tag_sentence('a quaternary ammonium salt ')"
   ],
   "outputs": [
    {
     "output_type": "stream",
     "name": "stdout",
     "text": [
      "Sentence: \"a quaternary ammonium salt\"   [− Tokens: 4  − Token-Labels: \"a quaternary ammonium salt <B>\"]\n",
      "The following NER tags are found:\n",
      "Span [4]: \"salt\"   [− Labels: B (0.7923)]\n"
     ]
    }
   ],
   "metadata": {}
  },
  {
   "cell_type": "code",
   "execution_count": 18,
   "source": [
    "tag_sentence('a quaternary ammonium salt that is the monoiodide')\n"
   ],
   "outputs": [
    {
     "output_type": "stream",
     "name": "stdout",
     "text": [
      "Sentence: \"a quaternary ammonium salt that is the monoiodide\"   [− Tokens: 8  − Token-Labels: \"a quaternary <B> ammonium <I> salt <I> that is the monoiodide\"]\n",
      "The following NER tags are found:\n",
      "Span [2]: \"quaternary\"   [− Labels: B (0.8416)]\n",
      "Span [3]: \"ammonium\"   [− Labels: I (0.5112)]\n",
      "Span [4]: \"salt\"   [− Labels: I (0.7425)]\n"
     ]
    }
   ],
   "metadata": {}
  },
  {
   "cell_type": "code",
   "execution_count": 22,
   "source": [
    "tag_sentence('influenza a virus ( a  /  chicken ')"
   ],
   "outputs": [
    {
     "output_type": "stream",
     "name": "stdout",
     "text": [
      "Sentence: \"influenza a virus ( a / chicken\"   [− Tokens: 7  − Token-Labels: \"influenza <B> a <I> virus <I> ( a / chicken\"]\n",
      "The following NER tags are found:\n",
      "Span [1]: \"influenza\"   [− Labels: B (0.9998)]\n",
      "Span [2]: \"a\"   [− Labels: I (0.9995)]\n",
      "Span [3]: \"virus\"   [− Labels: I (1.0)]\n"
     ]
    }
   ],
   "metadata": {}
  },
  {
   "cell_type": "code",
   "execution_count": 25,
   "source": [
    "tag_sentence(\n",
    "    'Any process that modulates the frequency, rate or extent of neurogenesis, the generation of cells in the nervous system.')\n"
   ],
   "outputs": [
    {
     "output_type": "stream",
     "name": "stdout",
     "text": [
      "Sentence: \"Any process that modulates the frequency , rate or extent of neurogenesis , the generation of cells in the nervous system .\"   [− Tokens: 22  − Token-Labels: \"Any process <B> that modulates the frequency , rate or extent of neurogenesis , the generation of cells in the nervous system .\"]\n",
      "The following NER tags are found:\n",
      "Span [2]: \"process\"   [− Labels: B (0.9808)]\n"
     ]
    }
   ],
   "metadata": {}
  },
  {
   "cell_type": "code",
   "execution_count": 26,
   "source": [
    "tag_sentence('positive regulation of neurogenesis')\n"
   ],
   "outputs": [
    {
     "output_type": "stream",
     "name": "stdout",
     "text": [
      "Sentence: \"positive regulation of neurogenesis\"   [− Tokens: 4  − Token-Labels: \"positive regulation <B> of <I> neurogenesis <I>\"]\n",
      "The following NER tags are found:\n",
      "Span [2]: \"regulation\"   [− Labels: B (0.8735)]\n",
      "Span [3]: \"of\"   [− Labels: I (0.9982)]\n",
      "Span [4]: \"neurogenesis\"   [− Labels: I (1.0)]\n"
     ]
    }
   ],
   "metadata": {}
  },
  {
   "cell_type": "code",
   "execution_count": 6,
   "source": [
    "tag_sentence('The positive regulation of neurogenesis is an event. And asexual reproduction is another process')\n"
   ],
   "outputs": [
    {
     "output_type": "stream",
     "name": "stdout",
     "text": [
      "Sentence: \"The positive regulation of neurogenesis is an event . And asexual reproduction is another process\"   [− Tokens: 15  − Token-Labels: \"The positive regulation <B> of <I> neurogenesis <I> is an event . And asexual reproduction is another process <B>\"]\n",
      "The following NER tags are found:\n",
      "Span [3]: \"regulation\"   [− Labels: B (0.57)]\n",
      "Span [4]: \"of\"   [− Labels: I (0.9311)]\n",
      "Span [5]: \"neurogenesis\"   [− Labels: I (0.9988)]\n",
      "Span [15]: \"process\"   [− Labels: B (0.7491)]\n"
     ]
    }
   ],
   "metadata": {}
  },
  {
   "cell_type": "code",
   "execution_count": 23,
   "source": [
    "sentence = Sentence(\n",
    "    'The positive regulation of neurogenesis is an event. And asexual reproduction is another process')\n",
    "tagger.predict(sentence)\n",
    "print(sentence.to_dict(tag_type='ner'))\n"
   ],
   "outputs": [
    {
     "output_type": "stream",
     "name": "stdout",
     "text": [
      "{'text': 'The positive regulation of neurogenesis is an event. And asexual reproduction is another process', 'labels': [], 'entities': [{'text': 'regulation', 'start_pos': 13, 'end_pos': 23, 'labels': [B (0.57)]}, {'text': 'of', 'start_pos': 24, 'end_pos': 26, 'labels': [I (0.9311)]}, {'text': 'neurogenesis', 'start_pos': 27, 'end_pos': 39, 'labels': [I (0.9988)]}, {'text': 'process', 'start_pos': 89, 'end_pos': 96, 'labels': [B (0.7491)]}]}\n"
     ]
    }
   ],
   "metadata": {}
  },
  {
   "cell_type": "code",
   "execution_count": 30,
   "source": [
    "sentence = Sentence(\n",
    "    'Bengal tiger')\n",
    "tagger.predict(sentence)\n",
    "print(sentence.to_dict(tag_type='ner'))\n"
   ],
   "outputs": [
    {
     "output_type": "stream",
     "name": "stdout",
     "text": [
      "{'text': 'Bengal tiger', 'labels': [], 'entities': [{'text': 'tiger', 'start_pos': 7, 'end_pos': 12, 'labels': [B (0.9425)]}]}\n"
     ]
    }
   ],
   "metadata": {}
  },
  {
   "cell_type": "code",
   "execution_count": 31,
   "source": [
    "mentions = []\n",
    "last_end=-3\n",
    "i = 0\n",
    "for entity in sentence.to_dict(tag_type='ner')['entities']:\n",
    "    if (last_end+1) == entity['start_pos']:\n",
    "        mentions[i-1] += ' ' + entity['text']\n",
    "    else:\n",
    "        mentions.append(entity['text'])\n",
    "        i+=1\n",
    "    last_end = entity['end_pos']\n",
    "\n",
    "mentions"
   ],
   "outputs": [
    {
     "output_type": "execute_result",
     "data": {
      "text/plain": [
       "['tiger']"
      ]
     },
     "metadata": {},
     "execution_count": 31
    }
   ],
   "metadata": {}
  },
  {
   "cell_type": "code",
   "execution_count": 8,
   "source": [
    "for entity in sentence.get_spans('ner'):\n",
    "    print(entity)\n"
   ],
   "outputs": [
    {
     "output_type": "stream",
     "name": "stdout",
     "text": [
      "Span [3]: \"regulation\"   [− Labels: B (0.57)]\n",
      "Span [4]: \"of\"   [− Labels: I (0.9311)]\n",
      "Span [5]: \"neurogenesis\"   [− Labels: I (0.9988)]\n",
      "Span [15]: \"process\"   [− Labels: B (0.7491)]\n"
     ]
    }
   ],
   "metadata": {}
  },
  {
   "cell_type": "code",
   "execution_count": 29,
   "source": [
    "tag_sentence('Bengal tiger')\n"
   ],
   "outputs": [
    {
     "output_type": "stream",
     "name": "stdout",
     "text": [
      "Sentence: \"Bengal tiger\"   [− Tokens: 2  − Token-Labels: \"Bengal tiger <B>\"]\n",
      "The following NER tags are found:\n",
      "Span [2]: \"tiger\"   [− Labels: B (0.9425)]\n"
     ]
    }
   ],
   "metadata": {}
  },
  {
   "cell_type": "code",
   "execution_count": 30,
   "source": [
    "tag_sentence('The genome of Panthera tigris tigris is being studied in ')\n"
   ],
   "outputs": [
    {
     "output_type": "stream",
     "name": "stdout",
     "text": [
      "Sentence: \"The genome of Panthera tigris tigris is being studied in\"   [− Tokens: 10  − Token-Labels: \"The genome <B> of Panthera tigris tigris is being studied in\"]\n",
      "The following NER tags are found:\n",
      "Span [2]: \"genome\"   [− Labels: B (0.9796)]\n"
     ]
    }
   ],
   "metadata": {}
  }
 ],
 "metadata": {
  "orig_nbformat": 4,
  "language_info": {
   "name": "python",
   "version": "3.8.5",
   "mimetype": "text/x-python",
   "codemirror_mode": {
    "name": "ipython",
    "version": 3
   },
   "pygments_lexer": "ipython3",
   "nbconvert_exporter": "python",
   "file_extension": ".py"
  },
  "kernelspec": {
   "name": "python3",
   "display_name": "Python 3.8.5 64-bit ('ontonerd': conda)"
  },
  "interpreter": {
   "hash": "f7111a28d93937e44de81b263355d7295881e69712709cd005f9d5c465abfe2b"
  }
 },
 "nbformat": 4,
 "nbformat_minor": 2
}