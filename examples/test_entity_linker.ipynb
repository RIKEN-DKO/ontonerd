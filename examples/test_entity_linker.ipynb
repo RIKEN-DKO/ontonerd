{
 "cells": [
  {
   "cell_type": "code",
   "execution_count": 1,
   "source": [
    "%load_ext autoreload\n",
    "%autoreload 2\n"
   ],
   "outputs": [],
   "metadata": {}
  },
  {
   "cell_type": "code",
   "execution_count": 2,
   "source": [
    "\"\"\"Computing the score \n",
    "    score(e;q,m) = P (e|q,m) ∝ P (e|m)P (q|e) \n",
    "\"\"\"\n",
    "from termcolor import colored\n",
    "from tabulate import tabulate\n",
    "import pickle5 as pickle\n",
    "\n",
    "import time\n",
    "from dkoulinker.entity_linker import EntityLinker, get_mentions_ner\n",
    "from flair.models import SequenceTagger\n",
    "from dkoulinker.entity_ranking import DictionaryRanking, QueryEntityRanking\n",
    "from dkoulinker.utils import _print_colorful_text\n"
   ],
   "outputs": [],
   "metadata": {}
  },
  {
   "cell_type": "code",
   "execution_count": 3,
   "source": [
    "#loading dicitonary of commonness,\n",
    "print('Loading mention2pem dictionary ...')\n",
    "handle = open('../data/pem/pem.pickle', 'rb')\n",
    "mention2pem = pickle.load(handle)\n",
    "\n",
    "\n",
    "print('Loading entity description dictionary ...')\n",
    "handle_desc = open('../data/pem/entity2description.pickle', 'rb')\n",
    "entity2description = pickle.load(handle_desc)\n",
    "print('NUmber of entities: ', len(entity2description))\n",
    "\n",
    "print('Loading dictionary of term frequency ...')\n",
    "handle_desc = open('../data/pem/mention_freq.pickle', 'rb')\n",
    "mention2freq = pickle.load(handle_desc)\n",
    "print('Number of term in the collection: ', len(mention2freq))\n",
    "\n",
    "#given by create_term_req\n",
    "collection_size_terms = len(mention2pem)\n"
   ],
   "outputs": [
    {
     "output_type": "stream",
     "name": "stdout",
     "text": [
      "Loading mention2pem dictionary ...\n",
      "Loading entity description dictionary ...\n",
      "NUmber of entities:  2680002\n",
      "Loading dictionary of term frequency ...\n",
      "Number of term in the collection:  3506008\n"
     ]
    }
   ],
   "metadata": {}
  },
  {
   "cell_type": "code",
   "execution_count": 6,
   "source": [
    "list(mention2pem['reproduction'].keys())"
   ],
   "outputs": [
    {
     "output_type": "execute_result",
     "data": {
      "text/plain": [
       "['GO:0000003']"
      ]
     },
     "metadata": {},
     "execution_count": 6
    }
   ],
   "metadata": {}
  },
  {
   "cell_type": "code",
   "execution_count": 7,
   "source": [
    "list(mention2pem['reproduction'].values())\n"
   ],
   "outputs": [
    {
     "output_type": "execute_result",
     "data": {
      "text/plain": [
       "[1.0]"
      ]
     },
     "metadata": {},
     "execution_count": 7
    }
   ],
   "metadata": {}
  },
  {
   "cell_type": "code",
   "execution_count": 6,
   "source": [
    "entity2description['GO:0005578']\n"
   ],
   "outputs": [
    {
     "output_type": "execute_result",
     "data": {
      "text/plain": [
       "'#UNK'"
      ]
     },
     "metadata": {},
     "execution_count": 6
    }
   ],
   "metadata": {}
  },
  {
   "cell_type": "code",
   "execution_count": 7,
   "source": [
    "entity2description['GO:0031012']\n"
   ],
   "outputs": [
    {
     "output_type": "execute_result",
     "data": {
      "text/plain": [
       "('structure',\n",
       " 'cells',\n",
       " 'biochemical',\n",
       " 'tissues',\n",
       " 'biomechanical',\n",
       " 'lying',\n",
       " 'proteinaceous',\n",
       " 'structural',\n",
       " 'extracellular',\n",
       " 'support',\n",
       " 'matrisome',\n",
       " 'cues',\n",
       " 'matrix',\n",
       " 'external',\n",
       " 'provides')"
      ]
     },
     "metadata": {},
     "execution_count": 7
    }
   ],
   "metadata": {}
  },
  {
   "cell_type": "code",
   "execution_count": 4,
   "source": [
    "# load the NER tagger\n",
    "tagger = SequenceTagger.load(\n",
    "    '../resources/taggers/sota-ner-flair/best-model.pt')\n"
   ],
   "outputs": [
    {
     "output_type": "stream",
     "name": "stdout",
     "text": [
      "2021-09-27 15:34:54,484 loading file ../resources/taggers/sota-ner-flair/best-model.pt\n"
     ]
    }
   ],
   "metadata": {}
  },
  {
   "cell_type": "code",
   "execution_count": 5,
   "source": [
    "text='quaternary ammonium salt that is the monoiodide. sexual reproduction'\n",
    "get_mentions_ner(text,tagger)"
   ],
   "outputs": [
    {
     "output_type": "execute_result",
     "data": {
      "text/plain": [
       "(['quaternary ammonium salt'],\n",
       " [{'text': 'quaternary ammonium salt', 'start_pos': 0, 'end_pos': 24}])"
      ]
     },
     "metadata": {},
     "execution_count": 5
    }
   ],
   "metadata": {}
  },
  {
   "cell_type": "code",
   "execution_count": 6,
   "source": [
    "dictionarysearch_strategy = DictionaryRanking(mention2pem) \n",
    "queryranking_strategy = QueryEntityRanking(\n",
    "    entity2description=entity2description,\n",
    "    mention_freq=mention2freq,\n",
    "    mention2pem=mention2pem\n",
    "    )\n",
    "e_linker = EntityLinker(\n",
    "    ranking_strategy=queryranking_strategy,\n",
    "    ner_model=tagger,\n",
    "    mention2pem=mention2pem,\n",
    "    prune_overlapping_method='large_text'\n",
    "    )\n"
   ],
   "outputs": [],
   "metadata": {}
  },
  {
   "cell_type": "code",
   "execution_count": 8,
   "source": [
    "text = 'a quaternary ammonium salt that is the monoiodide'\n",
    "samples = e_linker.get_mentions_by_tokens_and_dict(text)\n",
    "_print_colorful_text(text,samples)\n",
    "# samples"
   ],
   "outputs": [
    {
     "output_type": "stream",
     "name": "stdout",
     "text": [
      "\n",
      "a quaternary \u001b[41m\u001b[30mammonium\u001b[0m \u001b[42m\u001b[30msalt\u001b[0m that is the monoiodide\n",
      "\n"
     ]
    }
   ],
   "metadata": {}
  },
  {
   "cell_type": "code",
   "execution_count": 9,
   "source": [
    "from dkoulinker.utils import create_html_entities"
   ],
   "outputs": [],
   "metadata": {}
  },
  {
   "cell_type": "code",
   "execution_count": 11,
   "source": [
    "text = 'a quaternary ammonium salt that is the monoiodide'\n",
    "samples = e_linker.get_mentions_by_tokens_and_dict(text)\n",
    "create_html_entities(text, samples)\n"
   ],
   "outputs": [
    {
     "output_type": "execute_result",
     "data": {
      "text/plain": [
       "'<div class=\"entities\" style=\"line-height: 2.5 direction: ltr\">a quaternary <mark class=\"entity\" style=\"background: #aa9cfc; padding: 0.45em 0.6em; margin: 0 0.25em; line-height: 1; border-radius: 0.35em;\">ammonium <span style=\"font-size: 0.8em; font-weight: bold; line-height: 1; border-radius: 0.35em; vertical-align: middle; margin-left: 0.5rem\">BIO</span>\\n     <mark class=\"entity\" style=\"background: #aa9cfc; padding: 0.45em 0.6em; margin: 0 0.25em; line-height: 1; border-radius: 0.35em;\">salt <span style=\"font-size: 0.8em; font-weight: bold; line-height: 1; border-radius: 0.35em; vertical-align: middle; margin-left: 0.5rem\">BIO</span>\\n     that is the monoiodide</div>'"
      ]
     },
     "metadata": {},
     "execution_count": 11
    }
   ],
   "metadata": {}
  },
  {
   "cell_type": "code",
   "execution_count": 12,
   "source": [
    "text='sexual reproduction'\n",
    "samples = e_linker.get_mentions_by_tokens_and_dict(text)\n",
    "_print_colorful_text(text, samples)\n"
   ],
   "outputs": [
    {
     "output_type": "stream",
     "name": "stdout",
     "text": [
      "\n",
      "sexual \u001b[41m\u001b[30mreproduction\u001b[0m\n",
      "\n"
     ]
    }
   ],
   "metadata": {}
  },
  {
   "cell_type": "code",
   "execution_count": 13,
   "source": [
    "text='Quaternary ammonium salt that is the monoiodide'\n",
    "samples = e_linker.get_mentions_by_tokens_and_dict(text)\n",
    "_print_colorful_text(text, samples)\n",
    "samples"
   ],
   "outputs": [
    {
     "output_type": "stream",
     "name": "stdout",
     "text": [
      "\n",
      "Quaternary \u001b[41m\u001b[30mammonium\u001b[0m \u001b[42m\u001b[30msalt\u001b[0m that is the monoiodide\n",
      "\n"
     ]
    },
    {
     "output_type": "execute_result",
     "data": {
      "text/plain": [
       "[{'text': 'ammonium', 'start_pos': 11, 'end_pos': 19},\n",
       " {'text': 'salt', 'start_pos': 20, 'end_pos': 24}]"
      ]
     },
     "metadata": {},
     "execution_count": 13
    }
   ],
   "metadata": {}
  },
  {
   "cell_type": "code",
   "execution_count": 14,
   "source": [
    "text = 'Quaternary ammonium salt that is the monoiodide. Sexual reproduction'\n",
    "mentions = e_linker.link_entities(text)\n",
    "_print_colorful_text(text, mentions)\n",
    "mentions"
   ],
   "outputs": [
    {
     "output_type": "stream",
     "name": "stdout",
     "text": [
      "\n",
      "Quaternary \u001b[41m\u001b[30mammonium salt\u001b[0m that is the monoiodide. Sexual \u001b[42m\u001b[30mreproduction\u001b[0m\n",
      "\n"
     ]
    },
    {
     "output_type": "execute_result",
     "data": {
      "text/plain": [
       "[{'text': 'ammonium salt',\n",
       "  'end_pos': 24,\n",
       "  'start_pos': 11,\n",
       "  'entities': [('CHEBI:47704', 35.25677820125997)],\n",
       "  'best_entity': ('CHEBI:47704', 35.25677820125997)},\n",
       " {'text': 'reproduction',\n",
       "  'end_pos': 68,\n",
       "  'start_pos': 56,\n",
       "  'entities': [('GO:0000003', 5.114009083705022)],\n",
       "  'best_entity': ('GO:0000003', 5.114009083705022)}]"
      ]
     },
     "metadata": {},
     "execution_count": 14
    }
   ],
   "metadata": {}
  },
  {
   "cell_type": "code",
   "execution_count": 15,
   "source": [
    "text='quaternary ammonium salt that is the monoiodide that can be found in some species with sexual reproduction reduced'\n",
    "mentions = e_linker.link_entities(text)\n",
    "_print_colorful_text(text, mentions)\n",
    "mentions\n"
   ],
   "outputs": [
    {
     "output_type": "stream",
     "name": "stdout",
     "text": [
      "\n",
      "\u001b[41m\u001b[30mquaternary ammonium salt\u001b[0m that is the monoiodide that can be found in some \u001b[42m\u001b[30mspecies\u001b[0m with sexual \u001b[43m\u001b[30mreproduction\u001b[0m \u001b[44m\u001b[30mreduced\u001b[0m\n",
      "\n"
     ]
    },
    {
     "output_type": "execute_result",
     "data": {
      "text/plain": [
       "[{'text': 'quaternary ammonium salt',\n",
       "  'end_pos': 24,\n",
       "  'start_pos': 0,\n",
       "  'entities': [('CHEBI:35273', 8.303132223775105)],\n",
       "  'best_entity': ('CHEBI:35273', 8.303132223775105)},\n",
       " {'start_pos': 74,\n",
       "  'text': 'species',\n",
       "  'end_pos': 81,\n",
       "  'entities': [('OBI:0100026', 0.998766954377312),\n",
       "   ('MCCV_000003', 0.002679679196868865),\n",
       "   ('NCBITaxon:species', 0.0013398395984344324)],\n",
       "  'best_entity': ('OBI:0100026', 0.998766954377312)},\n",
       " {'end_pos': 106,\n",
       "  'text': 'reproduction',\n",
       "  'start_pos': 94,\n",
       "  'entities': [('GO:0000003', 2.968299120520138)],\n",
       "  'best_entity': ('GO:0000003', 2.968299120520138)},\n",
       " {'text': 'reduced',\n",
       "  'end_pos': 114,\n",
       "  'start_pos': 107,\n",
       "  'entities': [('PATO:0000587', 1.919248235352937),\n",
       "   ('PATO:0001997', 1.2794988235686249)],\n",
       "  'best_entity': ('PATO:0000587', 1.919248235352937)}]"
      ]
     },
     "metadata": {},
     "execution_count": 15
    }
   ],
   "metadata": {}
  },
  {
   "cell_type": "code",
   "execution_count": 16,
   "source": [
    "text='A molecular entity having a net electric.'\n",
    "mentions = e_linker.link_entities(text)\n",
    "_print_colorful_text(text, mentions)\n",
    "mentions\n"
   ],
   "outputs": [
    {
     "output_type": "stream",
     "name": "stdout",
     "text": [
      "\n",
      "A \u001b[41m\u001b[30mmolecular entity\u001b[0m having a \u001b[42m\u001b[30mnet\u001b[0m electric.\n",
      "\n"
     ]
    },
    {
     "output_type": "execute_result",
     "data": {
      "text/plain": [
       "[{'start_pos': 2,\n",
       "  'end_pos': 18,\n",
       "  'text': 'molecular entity',\n",
       "  'entities': [('CHEBI:23367', 2.667553377723604)],\n",
       "  'best_entity': ('CHEBI:23367', 2.667553377723604)},\n",
       " {'text': 'net',\n",
       "  'end_pos': 31,\n",
       "  'start_pos': 28,\n",
       "  'entities': [('GO:0140644', 6.664883535521932)],\n",
       "  'best_entity': ('GO:0140644', 6.664883535521932)}]"
      ]
     },
     "metadata": {},
     "execution_count": 16
    }
   ],
   "metadata": {}
  },
  {
   "cell_type": "code",
   "execution_count": 176,
   "source": [
    "text=\"there's a molecular entity with electric charge\"\n",
    "mentions = e_linker.link_entities(text)\n",
    "_print_colorful_text(text, mentions)\n",
    "mentions\n"
   ],
   "outputs": [
    {
     "output_type": "stream",
     "name": "stdout",
     "text": [
      "\n",
      "there's a \u001b[41m\u001b[30mmolecular entity\u001b[0m with electric charge\n",
      "\n"
     ]
    },
    {
     "output_type": "execute_result",
     "data": {
      "text/plain": [
       "[{'end_pos': 26,\n",
       "  'text': 'molecular entity',\n",
       "  'start_pos': 10,\n",
       "  'entities': [('CHEBI:23367', 4.356820601798991)],\n",
       "  'best_entity': ('CHEBI:23367', 4.356820601798991)}]"
      ]
     },
     "metadata": {},
     "execution_count": 176
    }
   ],
   "metadata": {}
  },
  {
   "cell_type": "code",
   "execution_count": 177,
   "source": [
    "text = \"theres a molecular entity with electric charge\"\n",
    "mentions = e_linker.link_entities(text)\n",
    "_print_colorful_text(text, mentions)\n",
    "mentions\n"
   ],
   "outputs": [
    {
     "output_type": "stream",
     "name": "stdout",
     "text": [
      "\n",
      "there\u001b[41m\u001b[30ms\u001b[0m a \u001b[42m\u001b[30mmolecular entity\u001b[0m with electric charge\n",
      "\n"
     ]
    },
    {
     "output_type": "execute_result",
     "data": {
      "text/plain": [
       "[{'text': 's',\n",
       "  'start_pos': 5,\n",
       "  'end_pos': 6,\n",
       "  'entities': [('CHEBI:29999', 2.95759679036954),\n",
       "   ('CHEBI:17115', 0.3924854915524766),\n",
       "   ('CHEBI:17909', 0.5062741561321537),\n",
       "   ('CHEBI:26833', 5.185600936147622),\n",
       "   ('CHEBI:36368', 0.4814570585727065),\n",
       "   ('UO:0000010', 0.4064118505055581)],\n",
       "  'best_entity': ('CHEBI:26833', 5.185600936147622)},\n",
       " {'start_pos': 9,\n",
       "  'end_pos': 25,\n",
       "  'text': 'molecular entity',\n",
       "  'entities': [('CHEBI:23367', 3.245904530608999)],\n",
       "  'best_entity': ('CHEBI:23367', 3.245904530608999)}]"
      ]
     },
     "metadata": {},
     "execution_count": 177
    }
   ],
   "metadata": {}
  },
  {
   "cell_type": "code",
   "execution_count": 178,
   "source": [
    "text = 'The fluoride salt of beryllium (+2 oxidation state). In the solid state it exists as a glass, with four-coordinate Be(2+) tetrahedral centres and two-coordinate fluoride centres. As a gas it adopts a linear triatomic structure and in the liquid state a fluctuating tetrahedral structure. In protein crystallography it is used as a mimic of phosphate.'\n",
    "mentions = e_linker.link_entities(text)\n",
    "_print_colorful_text(text, mentions)\n",
    "mentions\n"
   ],
   "outputs": [
    {
     "output_type": "stream",
     "name": "stdout",
     "text": [
      "\n",
      "The \u001b[41m\u001b[30mfluoride salt\u001b[0m of \u001b[42m\u001b[30mberyllium\u001b[0m (+2 oxidation \u001b[43m\u001b[30mstate\u001b[0m). In the \u001b[44m\u001b[30msolid\u001b[0m \u001b[45m\u001b[30mstate\u001b[0m it exists as a \u001b[46m\u001b[30mglass\u001b[0m, with four-\u001b[41m\u001b[30mcoordinate\u001b[0m Be(2+) tetrahedral centres and two-\u001b[42m\u001b[30mcoordinate\u001b[0m \u001b[43m\u001b[30mfluoride\u001b[0m centres. As a \u001b[44m\u001b[30mgas\u001b[0m it adopts a \u001b[45m\u001b[30mlinear\u001b[0m triatomic \u001b[46m\u001b[30mstructure\u001b[0m and in the \u001b[41m\u001b[30mliquid\u001b[0m \u001b[42m\u001b[30mstate\u001b[0m a \u001b[43m\u001b[30mfluctuating\u001b[0m tetrahedral \u001b[44m\u001b[30mstructure\u001b[0m. In \u001b[45m\u001b[30mprotein\u001b[0m crystallography it is used as a mimic of \u001b[46m\u001b[30mphosphate\u001b[0m.\n",
      "\n"
     ]
    },
    {
     "output_type": "execute_result",
     "data": {
      "text/plain": [
       "[{'text': 'fluoride salt',\n",
       "  'start_pos': 4,\n",
       "  'end_pos': 17,\n",
       "  'entities': [('CHEBI:24060', 2.216991408264466)],\n",
       "  'best_entity': ('CHEBI:24060', 2.216991408264466)},\n",
       " {'start_pos': 21,\n",
       "  'text': 'beryllium',\n",
       "  'end_pos': 30,\n",
       "  'entities': [('CHEBI:33783', 0.49010475837672285),\n",
       "   ('CHEBI:30501', 0.9624891694868001)],\n",
       "  'best_entity': ('CHEBI:30501', 0.9624891694868001)},\n",
       " {'text': 'state',\n",
       "  'start_pos': 45,\n",
       "  'end_pos': 50,\n",
       "  'entities': [('SIO:000662', 1.671060798158725)],\n",
       "  'best_entity': ('SIO:000662', 1.671060798158725)},\n",
       " {'start_pos': 60,\n",
       "  'end_pos': 65,\n",
       "  'text': 'solid',\n",
       "  'entities': [('PATO:0001736', 1.4661171813441671)],\n",
       "  'best_entity': ('PATO:0001736', 1.4661171813441671)},\n",
       " {'text': 'state',\n",
       "  'start_pos': 66,\n",
       "  'end_pos': 71,\n",
       "  'entities': [('SIO:000662', 1.671060798158725)],\n",
       "  'best_entity': ('SIO:000662', 1.671060798158725)},\n",
       " {'end_pos': 92,\n",
       "  'text': 'glass',\n",
       "  'start_pos': 87,\n",
       "  'entities': [('CHEBI:131189', 1.5247850072847873)],\n",
       "  'best_entity': ('CHEBI:131189', 1.5247850072847873)},\n",
       " {'end_pos': 114,\n",
       "  'text': 'coordinate',\n",
       "  'start_pos': 104,\n",
       "  'entities': [('SIO:000071', 1.5588710966917403)],\n",
       "  'best_entity': ('SIO:000071', 1.5588710966917403)},\n",
       " {'end_pos': 160,\n",
       "  'start_pos': 150,\n",
       "  'text': 'coordinate',\n",
       "  'entities': [('SIO:000071', 1.5588710966917403)],\n",
       "  'best_entity': ('SIO:000071', 1.5588710966917403)},\n",
       " {'start_pos': 161,\n",
       "  'end_pos': 169,\n",
       "  'text': 'fluoride',\n",
       "  'entities': [('CHEBI:17051', 1.1774354334229409),\n",
       "   ('CHEBI:29228', 0.28459565490519595)],\n",
       "  'best_entity': ('CHEBI:17051', 1.1774354334229409)},\n",
       " {'start_pos': 184,\n",
       "  'text': 'gas',\n",
       "  'end_pos': 187,\n",
       "  'entities': [('GO:0034005', 0.7351571375650842),\n",
       "   ('PATO:0001737', 0.7417851921257115)],\n",
       "  'best_entity': ('PATO:0001737', 0.7417851921257115)},\n",
       " {'start_pos': 200,\n",
       "  'end_pos': 206,\n",
       "  'text': 'linear',\n",
       "  'entities': [('PATO:0001199', 1.4437337542302002)],\n",
       "  'best_entity': ('PATO:0001199', 1.4437337542302002)},\n",
       " {'text': 'structure',\n",
       "  'start_pos': 217,\n",
       "  'end_pos': 226,\n",
       "  'entities': [('PATO:0000141', 1.222019080090283),\n",
       "   ('SIO:000600', 0.9696591179546059)],\n",
       "  'best_entity': ('PATO:0000141', 1.222019080090283)},\n",
       " {'end_pos': 244,\n",
       "  'text': 'liquid',\n",
       "  'start_pos': 238,\n",
       "  'entities': [('PATO:0001735', 1.6302011090372257)],\n",
       "  'best_entity': ('PATO:0001735', 1.6302011090372257)},\n",
       " {'start_pos': 245,\n",
       "  'text': 'state',\n",
       "  'end_pos': 250,\n",
       "  'entities': [('SIO:000662', 1.671060798158725)],\n",
       "  'best_entity': ('SIO:000662', 1.671060798158725)},\n",
       " {'text': 'fluctuating',\n",
       "  'start_pos': 253,\n",
       "  'end_pos': 264,\n",
       "  'entities': [('PATO:0002374', 1.5903405105941477)],\n",
       "  'best_entity': ('PATO:0002374', 1.5903405105941477)},\n",
       " {'text': 'structure',\n",
       "  'end_pos': 286,\n",
       "  'start_pos': 277,\n",
       "  'entities': [('PATO:0000141', 1.222019080090283),\n",
       "   ('SIO:000600', 0.9696591179546059)],\n",
       "  'best_entity': ('PATO:0000141', 1.222019080090283)},\n",
       " {'text': 'protein',\n",
       "  'start_pos': 291,\n",
       "  'end_pos': 298,\n",
       "  'entities': [('CHEBI:16541', 0.2589310525739954),\n",
       "   ('CHEBI:36080', 15.284109059661189),\n",
       "   ('PR:000000001', 107.51310197652772),\n",
       "   ('SIO:010043', 0.2788926121310706)],\n",
       "  'best_entity': ('PR:000000001', 107.51310197652772)},\n",
       " {'start_pos': 340,\n",
       "  'end_pos': 349,\n",
       "  'text': 'phosphate',\n",
       "  'entities': [('CHEBI:35780', 0.510450306706359),\n",
       "   ('CHEBI:18367', 0.28979286392052356),\n",
       "   ('CHEBI:43474', 0.14341544660321856),\n",
       "   ('CHEBI:26020', 99.91914597770307),\n",
       "   ('CHEBI:26078', 0.14095039354510613)],\n",
       "  'best_entity': ('CHEBI:26020', 99.91914597770307)}]"
      ]
     },
     "metadata": {},
     "execution_count": 178
    }
   ],
   "metadata": {}
  },
  {
   "cell_type": "code",
   "execution_count": 179,
   "source": [
    "text = 'The fluoride salt of beryllium (+2 oxidation state)'\n",
    "mentions = e_linker.link_entities(text)\n",
    "_print_colorful_text(text, mentions)\n",
    "mentions\n"
   ],
   "outputs": [
    {
     "output_type": "stream",
     "name": "stdout",
     "text": [
      "\n",
      "The \u001b[41m\u001b[30mfluoride salt\u001b[0m of \u001b[42m\u001b[30mberyllium\u001b[0m (+2 oxidation \u001b[43m\u001b[30mstate\u001b[0m)\n",
      "\n"
     ]
    },
    {
     "output_type": "execute_result",
     "data": {
      "text/plain": [
       "[{'text': 'fluoride salt',\n",
       "  'start_pos': 4,\n",
       "  'end_pos': 17,\n",
       "  'entities': [('CHEBI:24060', 24.157725392041723)],\n",
       "  'best_entity': ('CHEBI:24060', 24.157725392041723)},\n",
       " {'start_pos': 21,\n",
       "  'text': 'beryllium',\n",
       "  'end_pos': 30,\n",
       "  'entities': [('CHEBI:33783', 1.557827766492502),\n",
       "   ('CHEBI:30501', 2.8963909526248814)],\n",
       "  'best_entity': ('CHEBI:30501', 2.8963909526248814)},\n",
       " {'text': 'state',\n",
       "  'start_pos': 45,\n",
       "  'end_pos': 50,\n",
       "  'entities': [('SIO:000662', 7.7977445606475895)],\n",
       "  'best_entity': ('SIO:000662', 7.7977445606475895)}]"
      ]
     },
     "metadata": {},
     "execution_count": 179
    }
   ],
   "metadata": {}
  },
  {
   "cell_type": "code",
   "execution_count": 180,
   "source": [
    "text='In the solid state it exists as a glass, with four-coordinate Be(2+) tetrahedral centres and two-coordinate fluoride centres.'\n",
    "mentions = e_linker.link_entities(text)\n",
    "_print_colorful_text(text, mentions)\n",
    "mentions\n"
   ],
   "outputs": [
    {
     "output_type": "stream",
     "name": "stdout",
     "text": [
      "\n",
      "In the \u001b[41m\u001b[30msolid\u001b[0m \u001b[42m\u001b[30mstate\u001b[0m it exists as a \u001b[43m\u001b[30mglass\u001b[0m, with four-\u001b[44m\u001b[30mcoordinate\u001b[0m Be(2+) tetrahedral centres and two-\u001b[45m\u001b[30mcoordinate\u001b[0m \u001b[46m\u001b[30mfluoride\u001b[0m centres.\n",
      "\n"
     ]
    },
    {
     "output_type": "execute_result",
     "data": {
      "text/plain": [
       "[{'start_pos': 7,\n",
       "  'end_pos': 12,\n",
       "  'text': 'solid',\n",
       "  'entities': [('PATO:0001736', 2.6483466469593147)],\n",
       "  'best_entity': ('PATO:0001736', 2.6483466469593147)},\n",
       " {'text': 'state',\n",
       "  'start_pos': 13,\n",
       "  'end_pos': 18,\n",
       "  'entities': [('SIO:000662', 3.695018687518561)],\n",
       "  'best_entity': ('SIO:000662', 3.695018687518561)},\n",
       " {'end_pos': 39,\n",
       "  'start_pos': 34,\n",
       "  'text': 'glass',\n",
       "  'entities': [('CHEBI:131189', 2.926504503864421)],\n",
       "  'best_entity': ('CHEBI:131189', 2.926504503864421)},\n",
       " {'start_pos': 51,\n",
       "  'end_pos': 61,\n",
       "  'text': 'coordinate',\n",
       "  'entities': [('SIO:000071', 3.0959191617417847)],\n",
       "  'best_entity': ('SIO:000071', 3.0959191617417847)},\n",
       " {'end_pos': 107,\n",
       "  'text': 'coordinate',\n",
       "  'start_pos': 97,\n",
       "  'entities': [('SIO:000071', 3.0959191617417847)],\n",
       "  'best_entity': ('SIO:000071', 3.0959191617417847)},\n",
       " {'end_pos': 116,\n",
       "  'start_pos': 108,\n",
       "  'text': 'fluoride',\n",
       "  'entities': [('CHEBI:17051', 2.1396226507321248),\n",
       "   ('CHEBI:29228', 0.49089569909171404)],\n",
       "  'best_entity': ('CHEBI:17051', 2.1396226507321248)}]"
      ]
     },
     "metadata": {},
     "execution_count": 180
    }
   ],
   "metadata": {}
  },
  {
   "cell_type": "code",
   "execution_count": 181,
   "source": [
    "text = ' As a gas it adopts a linear triatomic structure and in the liquid state a fluctuating tetrahedral structure.'\n",
    "mentions = e_linker.link_entities(text)\n",
    "_print_colorful_text(text, mentions)\n",
    "mentions\n"
   ],
   "outputs": [
    {
     "output_type": "stream",
     "name": "stdout",
     "text": [
      "\n",
      " As a \u001b[41m\u001b[30mgas\u001b[0m it adopts a \u001b[42m\u001b[30mlinear\u001b[0m triatomic \u001b[43m\u001b[30mstructure\u001b[0m and in the \u001b[44m\u001b[30mliquid\u001b[0m \u001b[45m\u001b[30mstate\u001b[0m a \u001b[46m\u001b[30mfluctuating\u001b[0m tetrahedral \u001b[41m\u001b[30mstructure\u001b[0m.\n",
      "\n"
     ]
    },
    {
     "output_type": "execute_result",
     "data": {
      "text/plain": [
       "[{'end_pos': 9,\n",
       "  'text': 'gas',\n",
       "  'start_pos': 6,\n",
       "  'entities': [('GO:0034005', 1.3338438543366664),\n",
       "   ('PATO:0001737', 1.3646683726681752)],\n",
       "  'best_entity': ('PATO:0001737', 1.3646683726681752)},\n",
       " {'text': 'linear',\n",
       "  'end_pos': 28,\n",
       "  'start_pos': 22,\n",
       "  'entities': [('PATO:0001199', 2.5466378518061417)],\n",
       "  'best_entity': ('PATO:0001199', 2.5466378518061417)},\n",
       " {'text': 'structure',\n",
       "  'end_pos': 48,\n",
       "  'start_pos': 39,\n",
       "  'entities': [('PATO:0000141', 2.0477501927955255),\n",
       "   ('SIO:000600', 1.9116027456112858)],\n",
       "  'best_entity': ('PATO:0000141', 2.0477501927955255)},\n",
       " {'text': 'liquid',\n",
       "  'end_pos': 66,\n",
       "  'start_pos': 60,\n",
       "  'entities': [('PATO:0001735', 3.4693673511428025)],\n",
       "  'best_entity': ('PATO:0001735', 3.4693673511428025)},\n",
       " {'text': 'state',\n",
       "  'start_pos': 67,\n",
       "  'end_pos': 72,\n",
       "  'entities': [('SIO:000662', 3.695018687518561)],\n",
       "  'best_entity': ('SIO:000662', 3.695018687518561)},\n",
       " {'text': 'fluctuating',\n",
       "  'start_pos': 75,\n",
       "  'end_pos': 86,\n",
       "  'entities': [('PATO:0002374', 3.257496415358966)],\n",
       "  'best_entity': ('PATO:0002374', 3.257496415358966)},\n",
       " {'text': 'structure',\n",
       "  'end_pos': 108,\n",
       "  'start_pos': 99,\n",
       "  'entities': [('PATO:0000141', 2.0477501927955255),\n",
       "   ('SIO:000600', 1.9116027456112858)],\n",
       "  'best_entity': ('PATO:0000141', 2.0477501927955255)}]"
      ]
     },
     "metadata": {},
     "execution_count": 181
    }
   ],
   "metadata": {}
  },
  {
   "cell_type": "code",
   "execution_count": 182,
   "source": [
    "text = 'In protein crystallography it is used as a mimic of phosphate.'\n",
    "mentions = e_linker.link_entities(text)\n",
    "_print_colorful_text(text, mentions)\n",
    "mentions\n"
   ],
   "outputs": [
    {
     "output_type": "stream",
     "name": "stdout",
     "text": [
      "\n",
      "In \u001b[41m\u001b[30mprotein\u001b[0m crystallography it is used as a mimic of \u001b[42m\u001b[30mphosphate\u001b[0m.\n",
      "\n"
     ]
    },
    {
     "output_type": "execute_result",
     "data": {
      "text/plain": [
       "[{'start_pos': 3,\n",
       "  'text': 'protein',\n",
       "  'end_pos': 10,\n",
       "  'entities': [('CHEBI:16541', 1.3167385107698184),\n",
       "   ('CHEBI:36080', 74.92643092660032),\n",
       "   ('PR:000000001', 769.3784359599088),\n",
       "   ('SIO:010043', 1.9957936081969099)],\n",
       "  'best_entity': ('PR:000000001', 769.3784359599088)},\n",
       " {'end_pos': 61,\n",
       "  'start_pos': 52,\n",
       "  'text': 'phosphate',\n",
       "  'entities': [('CHEBI:35780', 2.2874678944170217),\n",
       "   ('CHEBI:18367', 1.2603223872408613),\n",
       "   ('CHEBI:43474', 0.594929892066507),\n",
       "   ('CHEBI:26020', 402.9568072100091),\n",
       "   ('CHEBI:26078', 0.5398832131867083)],\n",
       "  'best_entity': ('CHEBI:26020', 402.9568072100091)}]"
      ]
     },
     "metadata": {},
     "execution_count": 182
    }
   ],
   "metadata": {}
  },
  {
   "cell_type": "code",
   "execution_count": 183,
   "source": [
    "text = \"\"\"The process in which an antigen-presenting cell expresses peptide antigen in \n",
    "association with an MHC protein complex on its cell surface, including proteolysis and \n",
    "transport steps for the peptide antigen both prior to and following assembly with the MHC protein complex.\n",
    " The peptide antigen is typically, but not always, processed from an endogenous or exogenous protein.\"\"\"\n",
    "\n",
    "mentions = e_linker.link_entities(text)\n",
    "_print_colorful_text(text, mentions)\n",
    "mentions\n"
   ],
   "outputs": [
    {
     "output_type": "stream",
     "name": "stdout",
     "text": [
      "\n",
      "The \u001b[41m\u001b[30mprocess\u001b[0m in which an \u001b[42m\u001b[30mantigen\u001b[0m-presenting \u001b[43m\u001b[30mcell\u001b[0m expresses \u001b[44m\u001b[30mpeptide\u001b[0m \u001b[45m\u001b[30mantigen\u001b[0m in \n",
      "\u001b[46m\u001b[30massociation\u001b[0m with an MHC \u001b[41m\u001b[30mprotein\u001b[0m \u001b[42m\u001b[30mcomplex\u001b[0m on its \u001b[43m\u001b[30mcell\u001b[0m \u001b[44m\u001b[30msurface\u001b[0m, including \u001b[45m\u001b[30mproteolysis\u001b[0m and \n",
      "\u001b[46m\u001b[30mtransport\u001b[0m steps for the \u001b[41m\u001b[30mpeptide\u001b[0m \u001b[42m\u001b[30mantigen\u001b[0m both prior to and following assembly with the MHC \u001b[43m\u001b[30mprotein\u001b[0m \u001b[44m\u001b[30mcomplex\u001b[0m.\n",
      " The \u001b[45m\u001b[30mpeptide antigen\u001b[0m is typically, but not always, processed from an endogenous or exogenous \u001b[46m\u001b[30mprotein\u001b[0m.\n",
      "\n"
     ]
    },
    {
     "output_type": "execute_result",
     "data": {
      "text/plain": [
       "[{'text': 'process',\n",
       "  'start_pos': 4,\n",
       "  'end_pos': 11,\n",
       "  'entities': [('BFO:0000015', 1.2460255469628874),\n",
       "   ('UBERON:0004529', 0.08467235649729467),\n",
       "   ('ProcessualEntity', 0.046147671421455524),\n",
       "   ('SIO:000006', 0.5114700249211321),\n",
       "   ('ZFA:0001637', 0.017610971339665847)],\n",
       "  'best_entity': ('BFO:0000015', 1.2460255469628874)},\n",
       " {'end_pos': 31,\n",
       "  'start_pos': 24,\n",
       "  'text': 'antigen',\n",
       "  'entities': [('CHEBI:59132', 2.3005372039812224),\n",
       "   ('SIO:010419', 0.27572366689345784)],\n",
       "  'best_entity': ('CHEBI:59132', 2.3005372039812224)},\n",
       " {'start_pos': 43,\n",
       "  'text': 'cell',\n",
       "  'end_pos': 47,\n",
       "  'entities': [('CL:0000000', 1.3578640961840265),\n",
       "   ('GO:0005623', 0.668631010120962),\n",
       "   ('SIO:010001', 0.005618747984209765),\n",
       "   ('ZFA:0009000', 0.6449675683419837)],\n",
       "  'best_entity': ('CL:0000000', 1.3578640961840265)},\n",
       " {'end_pos': 65,\n",
       "  'start_pos': 58,\n",
       "  'text': 'peptide',\n",
       "  'entities': [('CHEBI:16670', 1.068335250280117),\n",
       "   ('PR:000018263', 0.0703576678098971),\n",
       "   ('PR:000018264', 0.0003919647231749143),\n",
       "   ('SIO:001425', 0.00012040271435946868)],\n",
       "  'best_entity': ('CHEBI:16670', 1.068335250280117)},\n",
       " {'start_pos': 66,\n",
       "  'end_pos': 73,\n",
       "  'text': 'antigen',\n",
       "  'entities': [('CHEBI:59132', 2.3005372039812224),\n",
       "   ('SIO:010419', 0.27572366689345784)],\n",
       "  'best_entity': ('CHEBI:59132', 2.3005372039812224)},\n",
       " {'text': 'association',\n",
       "  'start_pos': 78,\n",
       "  'end_pos': 89,\n",
       "  'entities': [('SIO:000897', 1.5832172214582296)],\n",
       "  'best_entity': ('SIO:000897', 1.5832172214582296)},\n",
       " {'end_pos': 109,\n",
       "  'text': 'protein',\n",
       "  'start_pos': 102,\n",
       "  'entities': [('CHEBI:16541', 0.2701529759025882),\n",
       "   ('CHEBI:36080', 15.931271178001444),\n",
       "   ('PR:000000001', 113.17678589949696),\n",
       "   ('SIO:010043', 0.293584399220485)],\n",
       "  'best_entity': ('PR:000000001', 113.17678589949696)},\n",
       " {'start_pos': 110,\n",
       "  'end_pos': 117,\n",
       "  'text': 'complex',\n",
       "  'entities': [('PATO:0001504', 1.5906938289863541)],\n",
       "  'best_entity': ('PATO:0001504', 1.5906938289863541)},\n",
       " {'text': 'cell',\n",
       "  'end_pos': 129,\n",
       "  'start_pos': 125,\n",
       "  'entities': [('CL:0000000', 1.3578640961840265),\n",
       "   ('GO:0005623', 0.668631010120962),\n",
       "   ('SIO:010001', 0.005618747984209765),\n",
       "   ('ZFA:0009000', 0.6449675683419837)],\n",
       "  'best_entity': ('CL:0000000', 1.3578640961840265)},\n",
       " {'text': 'surface',\n",
       "  'start_pos': 130,\n",
       "  'end_pos': 137,\n",
       "  'entities': [('UBERON:0002416', 1.2032616130579108),\n",
       "   ('BSPO:0000005', 3.3910569812115035)],\n",
       "  'best_entity': ('BSPO:0000005', 3.3910569812115035)},\n",
       " {'end_pos': 160,\n",
       "  'text': 'proteolysis',\n",
       "  'start_pos': 149,\n",
       "  'entities': [('GO:0006508', 1.4705493589369527)],\n",
       "  'best_entity': ('GO:0006508', 1.4705493589369527)},\n",
       " {'start_pos': 166,\n",
       "  'text': 'transport',\n",
       "  'end_pos': 175,\n",
       "  'entities': [('GO:0006810', 2.182631603528351)],\n",
       "  'best_entity': ('GO:0006810', 2.182631603528351)},\n",
       " {'start_pos': 190,\n",
       "  'end_pos': 197,\n",
       "  'text': 'peptide',\n",
       "  'entities': [('CHEBI:16670', 1.068335250280117),\n",
       "   ('PR:000018263', 0.0703576678098971),\n",
       "   ('PR:000018264', 0.0003919647231749143),\n",
       "   ('SIO:001425', 0.00012040271435946868)],\n",
       "  'best_entity': ('CHEBI:16670', 1.068335250280117)},\n",
       " {'end_pos': 205,\n",
       "  'start_pos': 198,\n",
       "  'text': 'antigen',\n",
       "  'entities': [('CHEBI:59132', 2.3005372039812224),\n",
       "   ('SIO:010419', 0.27572366689345784)],\n",
       "  'best_entity': ('CHEBI:59132', 2.3005372039812224)},\n",
       " {'start_pos': 256,\n",
       "  'text': 'protein',\n",
       "  'end_pos': 263,\n",
       "  'entities': [('CHEBI:16541', 0.2701529759025882),\n",
       "   ('CHEBI:36080', 15.931271178001444),\n",
       "   ('PR:000000001', 113.17678589949696),\n",
       "   ('SIO:010043', 0.293584399220485)],\n",
       "  'best_entity': ('PR:000000001', 113.17678589949696)},\n",
       " {'end_pos': 271,\n",
       "  'start_pos': 264,\n",
       "  'text': 'complex',\n",
       "  'entities': [('PATO:0001504', 1.5906938289863541)],\n",
       "  'best_entity': ('PATO:0001504', 1.5906938289863541)},\n",
       " {'end_pos': 293,\n",
       "  'text': 'peptide antigen',\n",
       "  'start_pos': 278,\n",
       "  'entities': [('CHEBI:166824', 1.5754689061193654)],\n",
       "  'best_entity': ('CHEBI:166824', 1.5754689061193654)},\n",
       " {'text': 'protein',\n",
       "  'start_pos': 366,\n",
       "  'end_pos': 373,\n",
       "  'entities': [('CHEBI:16541', 0.2701529759025882),\n",
       "   ('CHEBI:36080', 15.931271178001444),\n",
       "   ('PR:000000001', 113.17678589949696),\n",
       "   ('SIO:010043', 0.293584399220485)],\n",
       "  'best_entity': ('PR:000000001', 113.17678589949696)}]"
      ]
     },
     "metadata": {},
     "execution_count": 183
    }
   ],
   "metadata": {}
  },
  {
   "cell_type": "code",
   "execution_count": 184,
   "source": [
    "tiger = 'A tiger is a carnovire of the mammal family.'\n",
    "mentions = e_linker.link_entities(text)\n",
    "_print_colorful_text(text, mentions)\n",
    "mentions\n"
   ],
   "outputs": [
    {
     "output_type": "stream",
     "name": "stdout",
     "text": [
      "\n",
      "The \u001b[41m\u001b[30mprocess\u001b[0m in which an \u001b[42m\u001b[30mantigen\u001b[0m-presenting \u001b[43m\u001b[30mcell\u001b[0m expresses \u001b[44m\u001b[30mpeptide\u001b[0m \u001b[45m\u001b[30mantigen\u001b[0m in \n",
      "\u001b[46m\u001b[30massociation\u001b[0m with an MHC \u001b[41m\u001b[30mprotein\u001b[0m \u001b[42m\u001b[30mcomplex\u001b[0m on its \u001b[43m\u001b[30mcell\u001b[0m \u001b[44m\u001b[30msurface\u001b[0m, including \u001b[45m\u001b[30mproteolysis\u001b[0m and \n",
      "\u001b[46m\u001b[30mtransport\u001b[0m steps for the \u001b[41m\u001b[30mpeptide\u001b[0m \u001b[42m\u001b[30mantigen\u001b[0m both prior to and following assembly with the MHC \u001b[43m\u001b[30mprotein\u001b[0m \u001b[44m\u001b[30mcomplex\u001b[0m.\n",
      " The \u001b[45m\u001b[30mpeptide antigen\u001b[0m is typically, but not always, processed from an endogenous or exogenous \u001b[46m\u001b[30mprotein\u001b[0m.\n",
      "\n"
     ]
    },
    {
     "output_type": "execute_result",
     "data": {
      "text/plain": [
       "[{'text': 'process',\n",
       "  'start_pos': 4,\n",
       "  'end_pos': 11,\n",
       "  'entities': [('BFO:0000015', 1.2460255469628874),\n",
       "   ('UBERON:0004529', 0.08467235649729467),\n",
       "   ('ProcessualEntity', 0.046147671421455524),\n",
       "   ('SIO:000006', 0.5114700249211321),\n",
       "   ('ZFA:0001637', 0.017610971339665847)],\n",
       "  'best_entity': ('BFO:0000015', 1.2460255469628874)},\n",
       " {'end_pos': 31,\n",
       "  'start_pos': 24,\n",
       "  'text': 'antigen',\n",
       "  'entities': [('CHEBI:59132', 2.3005372039812224),\n",
       "   ('SIO:010419', 0.27572366689345784)],\n",
       "  'best_entity': ('CHEBI:59132', 2.3005372039812224)},\n",
       " {'start_pos': 43,\n",
       "  'text': 'cell',\n",
       "  'end_pos': 47,\n",
       "  'entities': [('CL:0000000', 1.3578640961840265),\n",
       "   ('GO:0005623', 0.668631010120962),\n",
       "   ('SIO:010001', 0.005618747984209765),\n",
       "   ('ZFA:0009000', 0.6449675683419837)],\n",
       "  'best_entity': ('CL:0000000', 1.3578640961840265)},\n",
       " {'end_pos': 65,\n",
       "  'start_pos': 58,\n",
       "  'text': 'peptide',\n",
       "  'entities': [('CHEBI:16670', 1.068335250280117),\n",
       "   ('PR:000018263', 0.0703576678098971),\n",
       "   ('PR:000018264', 0.0003919647231749143),\n",
       "   ('SIO:001425', 0.00012040271435946868)],\n",
       "  'best_entity': ('CHEBI:16670', 1.068335250280117)},\n",
       " {'start_pos': 66,\n",
       "  'end_pos': 73,\n",
       "  'text': 'antigen',\n",
       "  'entities': [('CHEBI:59132', 2.3005372039812224),\n",
       "   ('SIO:010419', 0.27572366689345784)],\n",
       "  'best_entity': ('CHEBI:59132', 2.3005372039812224)},\n",
       " {'text': 'association',\n",
       "  'start_pos': 78,\n",
       "  'end_pos': 89,\n",
       "  'entities': [('SIO:000897', 1.5832172214582296)],\n",
       "  'best_entity': ('SIO:000897', 1.5832172214582296)},\n",
       " {'end_pos': 109,\n",
       "  'text': 'protein',\n",
       "  'start_pos': 102,\n",
       "  'entities': [('CHEBI:16541', 0.2701529759025882),\n",
       "   ('CHEBI:36080', 15.931271178001444),\n",
       "   ('PR:000000001', 113.17678589949696),\n",
       "   ('SIO:010043', 0.293584399220485)],\n",
       "  'best_entity': ('PR:000000001', 113.17678589949696)},\n",
       " {'start_pos': 110,\n",
       "  'end_pos': 117,\n",
       "  'text': 'complex',\n",
       "  'entities': [('PATO:0001504', 1.5906938289863541)],\n",
       "  'best_entity': ('PATO:0001504', 1.5906938289863541)},\n",
       " {'text': 'cell',\n",
       "  'end_pos': 129,\n",
       "  'start_pos': 125,\n",
       "  'entities': [('CL:0000000', 1.3578640961840265),\n",
       "   ('GO:0005623', 0.668631010120962),\n",
       "   ('SIO:010001', 0.005618747984209765),\n",
       "   ('ZFA:0009000', 0.6449675683419837)],\n",
       "  'best_entity': ('CL:0000000', 1.3578640961840265)},\n",
       " {'text': 'surface',\n",
       "  'start_pos': 130,\n",
       "  'end_pos': 137,\n",
       "  'entities': [('UBERON:0002416', 1.2032616130579108),\n",
       "   ('BSPO:0000005', 3.3910569812115035)],\n",
       "  'best_entity': ('BSPO:0000005', 3.3910569812115035)},\n",
       " {'end_pos': 160,\n",
       "  'text': 'proteolysis',\n",
       "  'start_pos': 149,\n",
       "  'entities': [('GO:0006508', 1.4705493589369527)],\n",
       "  'best_entity': ('GO:0006508', 1.4705493589369527)},\n",
       " {'start_pos': 166,\n",
       "  'text': 'transport',\n",
       "  'end_pos': 175,\n",
       "  'entities': [('GO:0006810', 2.182631603528351)],\n",
       "  'best_entity': ('GO:0006810', 2.182631603528351)},\n",
       " {'start_pos': 190,\n",
       "  'end_pos': 197,\n",
       "  'text': 'peptide',\n",
       "  'entities': [('CHEBI:16670', 1.068335250280117),\n",
       "   ('PR:000018263', 0.0703576678098971),\n",
       "   ('PR:000018264', 0.0003919647231749143),\n",
       "   ('SIO:001425', 0.00012040271435946868)],\n",
       "  'best_entity': ('CHEBI:16670', 1.068335250280117)},\n",
       " {'end_pos': 205,\n",
       "  'start_pos': 198,\n",
       "  'text': 'antigen',\n",
       "  'entities': [('CHEBI:59132', 2.3005372039812224),\n",
       "   ('SIO:010419', 0.27572366689345784)],\n",
       "  'best_entity': ('CHEBI:59132', 2.3005372039812224)},\n",
       " {'start_pos': 256,\n",
       "  'text': 'protein',\n",
       "  'end_pos': 263,\n",
       "  'entities': [('CHEBI:16541', 0.2701529759025882),\n",
       "   ('CHEBI:36080', 15.931271178001444),\n",
       "   ('PR:000000001', 113.17678589949696),\n",
       "   ('SIO:010043', 0.293584399220485)],\n",
       "  'best_entity': ('PR:000000001', 113.17678589949696)},\n",
       " {'end_pos': 271,\n",
       "  'start_pos': 264,\n",
       "  'text': 'complex',\n",
       "  'entities': [('PATO:0001504', 1.5906938289863541)],\n",
       "  'best_entity': ('PATO:0001504', 1.5906938289863541)},\n",
       " {'end_pos': 293,\n",
       "  'text': 'peptide antigen',\n",
       "  'start_pos': 278,\n",
       "  'entities': [('CHEBI:166824', 1.5754689061193654)],\n",
       "  'best_entity': ('CHEBI:166824', 1.5754689061193654)},\n",
       " {'text': 'protein',\n",
       "  'start_pos': 366,\n",
       "  'end_pos': 373,\n",
       "  'entities': [('CHEBI:16541', 0.2701529759025882),\n",
       "   ('CHEBI:36080', 15.931271178001444),\n",
       "   ('PR:000000001', 113.17678589949696),\n",
       "   ('SIO:010043', 0.293584399220485)],\n",
       "  'best_entity': ('PR:000000001', 113.17678589949696)}]"
      ]
     },
     "metadata": {},
     "execution_count": 184
    }
   ],
   "metadata": {}
  },
  {
   "cell_type": "code",
   "execution_count": 185,
   "source": [
    "\n",
    "text = \"\"\"Natural gas consists primarily of methane that is clean, non-toxic, and has abundant natural reserves. \n",
    "However, methane is also a greenhouse gas whose greenhouse effect is more than 20 times than that of carbon dioxide. \n",
    "The conversion of methane into other value-added chemicals has been an important research area in the field of catalysis for many years. \n",
    "One of the most challenging processes of high industrial importance is the conversion of methane to methanol (CHEBI:17790), \n",
    "a simple alcohol that is liquid under ambient conditions and can be easily stored and transported compared to methane [1]. \n",
    "Methanol is used as an important chemical raw material to make products such as paints and plastics and as an additive to gasoline [2].\"\"\"\n",
    "\n",
    "mentions = e_linker.link_entities(text)\n",
    "_print_colorful_text(text, mentions)\n",
    "mentions\n"
   ],
   "outputs": [
    {
     "output_type": "stream",
     "name": "stdout",
     "text": [
      "\n",
      "Natural \u001b[41m\u001b[30mgas\u001b[0m consists primarily of \u001b[42m\u001b[30mmethane\u001b[0m that is clean, non-\u001b[43m\u001b[30mtoxic\u001b[0m, and has abundant natural reserves. \n",
      "However, \u001b[44m\u001b[30mmethane\u001b[0m is also a greenhouse \u001b[45m\u001b[30mgas\u001b[0m whose greenhouse effect is more than 20 times than that of \u001b[46m\u001b[30mcarbon\u001b[0m dioxide. \n",
      "The conversion of \u001b[41m\u001b[30mmethane\u001b[0m into other value-added chemicals has been an important research \u001b[42m\u001b[30marea\u001b[0m in the \u001b[43m\u001b[30mfield\u001b[0m of catalysis for many years. \n",
      "One of the most challenging \u001b[44m\u001b[30mprocesses\u001b[0m of high industrial importance is the conversion of \u001b[45m\u001b[30mmethane\u001b[0m to \u001b[46m\u001b[30mmethanol\u001b[0m (CHEBI:17790), \n",
      "a \u001b[41m\u001b[30msimple\u001b[0m \u001b[42m\u001b[30malcohol\u001b[0m that is \u001b[43m\u001b[30mliquid\u001b[0m under ambient conditions and can be easily stored and transported compared to \u001b[44m\u001b[30mmethane\u001b[0m [1]. \n",
      "Methanol is used as an important chemical raw material to make products such as paints and plastics and as an additive to gasoline [2].\n",
      "\n"
     ]
    },
    {
     "output_type": "execute_result",
     "data": {
      "text/plain": [
       "[{'text': 'gas',\n",
       "  'end_pos': 11,\n",
       "  'start_pos': 8,\n",
       "  'entities': [('GO:0034005', 0.6022665026762707),\n",
       "   ('PATO:0001737', 0.604881766020379)],\n",
       "  'best_entity': ('PATO:0001737', 0.604881766020379)},\n",
       " {'end_pos': 41,\n",
       "  'start_pos': 34,\n",
       "  'text': 'methane',\n",
       "  'entities': [('CHEBI:16183', 1.952654927831163)],\n",
       "  'best_entity': ('CHEBI:16183', 1.952654927831163)},\n",
       " {'text': 'toxic',\n",
       "  'start_pos': 61,\n",
       "  'end_pos': 66,\n",
       "  'entities': [('SIO:001009', 1.2813017861774334)],\n",
       "  'best_entity': ('SIO:001009', 1.2813017861774334)},\n",
       " {'end_pos': 120,\n",
       "  'start_pos': 113,\n",
       "  'text': 'methane',\n",
       "  'entities': [('CHEBI:16183', 1.952654927831163)],\n",
       "  'best_entity': ('CHEBI:16183', 1.952654927831163)},\n",
       " {'end_pos': 145,\n",
       "  'text': 'gas',\n",
       "  'start_pos': 142,\n",
       "  'entities': [('GO:0034005', 0.6022665026762707),\n",
       "   ('PATO:0001737', 0.604881766020379)],\n",
       "  'best_entity': ('PATO:0001737', 0.604881766020379)},\n",
       " {'end_pos': 211,\n",
       "  'text': 'carbon',\n",
       "  'start_pos': 205,\n",
       "  'entities': [('CHEBI:33415', 0.9326872728620195),\n",
       "   ('CHEBI:27594', 0.3691865265737569)],\n",
       "  'best_entity': ('CHEBI:33415', 0.9326872728620195)},\n",
       " {'start_pos': 240,\n",
       "  'end_pos': 247,\n",
       "  'text': 'methane',\n",
       "  'entities': [('CHEBI:16183', 1.952654927831163)],\n",
       "  'best_entity': ('CHEBI:16183', 1.952654927831163)},\n",
       " {'text': 'area',\n",
       "  'end_pos': 316,\n",
       "  'start_pos': 312,\n",
       "  'entities': [('EFO:0001696', 0.30174539068616185),\n",
       "   ('PATO:0001323', 1.5056662566906767),\n",
       "   ('SIO:000045', 0.6255198523840453)],\n",
       "  'best_entity': ('PATO:0001323', 1.5056662566906767)},\n",
       " {'start_pos': 324,\n",
       "  'end_pos': 329,\n",
       "  'text': 'field',\n",
       "  'entities': [('UBERON:0007688', 1.1634077195801729)],\n",
       "  'best_entity': ('UBERON:0007688', 1.1634077195801729)},\n",
       " {'text': 'processes',\n",
       "  'end_pos': 397,\n",
       "  'start_pos': 388,\n",
       "  'entities': [('UBERON:0004529', 1.1475022645223196)],\n",
       "  'best_entity': ('UBERON:0004529', 1.1475022645223196)},\n",
       " {'start_pos': 449,\n",
       "  'end_pos': 456,\n",
       "  'text': 'methane',\n",
       "  'entities': [('CHEBI:16183', 1.952654927831163)],\n",
       "  'best_entity': ('CHEBI:16183', 1.952654927831163)},\n",
       " {'start_pos': 460,\n",
       "  'text': 'methanol',\n",
       "  'end_pos': 468,\n",
       "  'entities': [('CHEBI:17790', 1.2438609486879013)],\n",
       "  'best_entity': ('CHEBI:17790', 1.2438609486879013)},\n",
       " {'start_pos': 487,\n",
       "  'end_pos': 493,\n",
       "  'text': 'simple',\n",
       "  'entities': [('PATO:0001503', 1.2190144072546385)],\n",
       "  'best_entity': ('PATO:0001503', 1.2190144072546385)},\n",
       " {'text': 'alcohol',\n",
       "  'start_pos': 494,\n",
       "  'end_pos': 501,\n",
       "  'entities': [('CHEBI:30879', 1.2294534815686036),\n",
       "   ('CHEBI:16236', 0.0005105129329137753)],\n",
       "  'best_entity': ('CHEBI:30879', 1.2294534815686036)},\n",
       " {'text': 'liquid',\n",
       "  'end_pos': 516,\n",
       "  'start_pos': 510,\n",
       "  'entities': [('PATO:0001735', 1.2660803293691254)],\n",
       "  'best_entity': ('PATO:0001735', 1.2660803293691254)},\n",
       " {'start_pos': 595,\n",
       "  'end_pos': 602,\n",
       "  'text': 'methane',\n",
       "  'entities': [('CHEBI:16183', 1.952654927831163)],\n",
       "  'best_entity': ('CHEBI:16183', 1.952654927831163)}]"
      ]
     },
     "metadata": {},
     "execution_count": 185
    }
   ],
   "metadata": {}
  }
 ],
 "metadata": {
  "orig_nbformat": 4,
  "language_info": {
   "name": "python",
   "version": "3.8.5",
   "mimetype": "text/x-python",
   "codemirror_mode": {
    "name": "ipython",
    "version": 3
   },
   "pygments_lexer": "ipython3",
   "nbconvert_exporter": "python",
   "file_extension": ".py"
  },
  "kernelspec": {
   "name": "python3",
   "display_name": "Python 3.8.5 64-bit ('ontonerd': conda)"
  },
  "interpreter": {
   "hash": "f7111a28d93937e44de81b263355d7295881e69712709cd005f9d5c465abfe2b"
  }
 },
 "nbformat": 4,
 "nbformat_minor": 2
}