{
 "cells": [
  {
   "cell_type": "code",
   "execution_count": 1,
   "metadata": {},
   "outputs": [],
   "source": [
    "%load_ext autoreload\n",
    "%autoreload 2\n"
   ]
  },
  {
   "cell_type": "code",
   "execution_count": 41,
   "metadata": {},
   "outputs": [],
   "source": [
    "from flair.models import SequenceTagger\n",
    "from dkoulinker.entity_linker import EntityLinker, get_mentions_ner, get_mentions_flair, proc_flair_sentence\n",
    "from dkoulinker.tokenization import SegtokSentenceSplitter\n",
    "from flair.data import Sentence\n"
   ]
  },
  {
   "cell_type": "code",
   "execution_count": 3,
   "metadata": {},
   "outputs": [
    {
     "name": "stdout",
     "output_type": "stream",
     "text": [
      "2021-12-14 15:22:44,815 loading file ../resources/taggers/sota-ner-flair/best-model.pt\n"
     ]
    }
   ],
   "source": [
    "# load the NER tagger\n",
    "tagger = SequenceTagger.load(\n",
    "    '../resources/taggers/sota-ner-flair/best-model.pt')\n"
   ]
  },
  {
   "cell_type": "code",
   "execution_count": 4,
   "metadata": {},
   "outputs": [
    {
     "data": {
      "text/plain": [
       "<function dkoulinker.entity_linker.proc_flair_sentence(sentence)>"
      ]
     },
     "execution_count": 4,
     "metadata": {},
     "output_type": "execute_result"
    }
   ],
   "source": [
    "text = \"Zika virus is a mosquitoborne flavivirus that is the focus of an ongoing pandemic and public health emergency. Previously limited to sporadic cases in Africa and Asia, the emergence of Zika virus in Brazil in 2015 heralded rapid spread throughout the Americas. Although most Zika virus infections are characterized by subclinical or mild influenza-like illness, severe manifestations have been described, including Guillain-Barre syndrome in adults and microcephaly in babies born to infected mothers. Neither an effective treatment nor a vaccine is available for Zika virus; therefore, the public health response primarily focuses on preventing infection, particularly in pregnant women. Despite growing knowledge about this virus, questions remain regarding the virus's vectors and reservoirs, pathogenesis, genetic diversity, and potential synergistic effects of co-infection with other circulating viruses. These questions highlight the need for research to optimize surveillance, patient management, and public health intervention in the current Zika virus epidemic. \"\n",
    "get_mentions_ner(text, tagger)\n"
   ]
  },
  {
   "cell_type": "code",
   "execution_count": 5,
   "metadata": {},
   "outputs": [],
   "source": [
    "# from flair.tokenization import SegtokSentenceSplitter\n"
   ]
  },
  {
   "cell_type": "code",
   "execution_count": 42,
   "metadata": {},
   "outputs": [
    {
     "name": "stdout",
     "output_type": "stream",
     "text": [
      "2021-12-14 16:29:20,520 Warning: An empty Sentence was created! Are there empty strings in your dataset?\n",
      "2021-12-14 16:29:20,521 Ignore 1 sentence(s) with no tokens.\n",
      "CPU times: user 38.1 ms, sys: 10 ms, total: 48.2 ms\n",
      "Wall time: 47.1 ms\n"
     ]
    }
   ],
   "source": [
    "%%time\n",
    "# example text with many sentences\n",
    "text = \"Zika virus is a mosquitoborne flavivirus that is the focus of an ongoing pandemic and public health emergency. Previously limited to sporadic cases in Africa and Asia, the emergence of Zika virus in Brazil in 2015 heralded rapid spread throughout the Americas. Although most Zika virus infections are characterized by subclinical or mild influenza-like illness, severe manifestations have been described, including Guillain-Barre syndrome in adults and microcephaly in babies born to infected mothers. Neither an effective treatment nor a vaccine is available for Zika virus; therefore, the public health response primarily focuses on preventing infection, particularly in pregnant women. Despite growing knowledge about this virus, questions remain regarding the virus's vectors and reservoirs, pathogenesis, genetic diversity, and potential synergistic effects of co-infection with other circulating viruses. These questions highlight the need for research to optimize surveillance, patient management, and public health intervention in the current Zika virus epidemic. \"\n",
    "\n",
    "# initialize sentence splitter\n",
    "splitter = SegtokSentenceSplitter()\n",
    "\n",
    "# use splitter to split text into list of sentences\n",
    "plain_sentences, sentences = splitter.split(text)\n",
    "\n",
    "# predict tags for sentences\n",
    "# tagger = SequenceTagger.load('ner')\n",
    "tagger.predict(sentences)\n",
    "\n",
    "# iterate through sentences and print predicted labels\n",
    "# for sentence in sentences:\n",
    "#     print(sentence.to_tagged_string())\n"
   ]
  },
  {
   "cell_type": "code",
   "execution_count": 44,
   "metadata": {},
   "outputs": [],
   "source": [
    "ner_mentions = []  # a list of dicts\n",
    "last_sen_size = 0\n",
    "for i,sentence in enumerate(sentences):\n",
    "    # if len(sentence) == 0:\n",
    "    #     continue\n",
    "    # print(len(sentence))\n",
    "    # print(sentence.to_tagged_string())\n",
    "    ner_mentions_textonly_sentence, ner_mentions_sentence = proc_flair_sentence(\n",
    "        sentence)\n",
    "    if len(ner_mentions_sentence) > 0:\n",
    "        for ment in ner_mentions_sentence:\n",
    "\n",
    "            ment['start_pos'] += last_sen_size\n",
    "            ment['end_pos'] += last_sen_size\n",
    "\n",
    "        #Skip mentions not in dictionary\n",
    "            # if ment['text'] in self.mention2pem:\n",
    "            ner_mentions.append(ment)\n",
    "#Last text lenght plus 1 for accounting the '.'\n",
    "    last_sen_size += len(plain_sentences[i]) + 1\n"
   ]
  },
  {
   "cell_type": "code",
   "execution_count": 45,
   "metadata": {},
   "outputs": [
    {
     "data": {
      "text/plain": [
       "[{'text': 'flavivirus', 'start_pos': 30, 'end_pos': 40},\n",
       " {'text': 'treatment', 'start_pos': 523, 'end_pos': 532}]"
      ]
     },
     "execution_count": 45,
     "metadata": {},
     "output_type": "execute_result"
    }
   ],
   "source": [
    "ner_mentions"
   ]
  },
  {
   "cell_type": "code",
   "execution_count": 38,
   "metadata": {},
   "outputs": [
    {
     "name": "stdout",
     "output_type": "stream",
     "text": [
      "CPU times: user 110 ms, sys: 60.7 ms, total: 171 ms\n",
      "Wall time: 170 ms\n"
     ]
    }
   ],
   "source": [
    "%%time\n",
    "sent = Sentence(text)\n",
    "tagger.predict(sent)"
   ]
  },
  {
   "cell_type": "code",
   "execution_count": 39,
   "metadata": {},
   "outputs": [
    {
     "data": {
      "text/plain": [
       "<bound method Sentence.to_tagged_string of Sentence: \"Zika virus is a mosquitoborne flavivirus that is the focus of an ongoing pandemic and public health emergency . Previously limited to sporadic cases in Africa and Asia , the emergence of Zika virus in Brazil in 2015 heralded rapid spread throughout the Americas . Although most Zika virus infections are characterized by subclinical or mild influenza-like illness , severe manifestations have been described , including Guillain-Barre syndrome in adults and microcephaly in babies born to infected mothers . Neither an effective treatment nor a vaccine is available for Zika virus ; therefore , the public health response primarily focuses on preventing infection , particularly in pregnant women . Despite growing knowledge about this virus , questions remain regarding the virus 's vectors and reservoirs , pathogenesis , genetic diversity , and potential synergistic effects of co-infection with other circulating viruses . These questions highlight the need for research to optimize surveillance , patient management , and public health intervention in the current Zika virus epidemic .\"   [− Tokens: 167  − Token-Labels: \"Zika virus is a mosquitoborne flavivirus <B> that is the focus of an ongoing pandemic and public health emergency . Previously limited to sporadic cases in Africa and Asia , the emergence of Zika virus in Brazil in 2015 heralded rapid spread throughout the Americas . Although most Zika virus infections are characterized by subclinical or mild influenza-like illness , severe manifestations have been described , including Guillain-Barre syndrome in adults and microcephaly in babies born to infected mothers . Neither an effective treatment nor a vaccine is available for Zika virus ; therefore , the public health response primarily focuses on preventing infection , particularly in pregnant women . Despite growing knowledge about this virus , questions remain regarding the virus 's vectors and reservoirs , pathogenesis , genetic diversity , and potential synergistic effects of co-infection with other circulating viruses . These questions highlight the need for research to optimize surveillance , patient management , and public health intervention in the current Zika virus epidemic .\"]>"
      ]
     },
     "execution_count": 39,
     "metadata": {},
     "output_type": "execute_result"
    }
   ],
   "source": [
    "sent.to_tagged_string"
   ]
  },
  {
   "cell_type": "code",
   "execution_count": 24,
   "metadata": {},
   "outputs": [
    {
     "name": "stdout",
     "output_type": "stream",
     "text": [
      "2021-12-14 15:56:49,876 Ignore 1 sentence(s) with no tokens.\n",
      "Zika virus is a mosquitoborne flavivirus that is the focus of an ongoing pandemic and public health emergency\n",
      "2021-12-14 15:56:49,919 Ignore 1 sentence(s) with no tokens.\n",
      "Previously limited to sporadic cases in Africa and Asia, the emergence of Zika virus in Brazil in 2015 heralded rapid spread throughout the Americas\n",
      "2021-12-14 15:56:49,961 Ignore 1 sentence(s) with no tokens.\n",
      "Although most Zika virus infections are characterized by subclinical or mild influenza-like illness, severe manifestations have been described, including Guillain-Barre syndrome in adults and microcephaly in babies born to infected mothers\n",
      "2021-12-14 15:56:50,003 Ignore 1 sentence(s) with no tokens.\n",
      "Neither an effective treatment nor a vaccine is available for Zika virus; therefore, the public health response primarily focuses on preventing infection, particularly in pregnant women\n",
      "2021-12-14 15:56:50,046 Ignore 1 sentence(s) with no tokens.\n",
      "Despite growing knowledge about this virus, questions remain regarding the virus's vectors and reservoirs, pathogenesis, genetic diversity, and potential synergistic effects of co-infection with other circulating viruses\n",
      "2021-12-14 15:56:50,088 Ignore 1 sentence(s) with no tokens.\n",
      "These questions highlight the need for research to optimize surveillance, patient management, and public health intervention in the current Zika virus epidemic\n",
      "2021-12-14 15:56:50,131 Ignore 1 sentence(s) with no tokens.\n",
      "\n",
      "CPU times: user 247 ms, sys: 51.8 ms, total: 299 ms\n",
      "Wall time: 297 ms\n"
     ]
    }
   ],
   "source": [
    "%%time\n",
    "sentences = [Sentence(sent) for sent in text.split('.')]\n",
    "for sentence in sentences:\n",
    "    # print(len(sentence))\n",
    "    tagger.predict(sentences)\n",
    "    print(sentence.to_plain_string())\n"
   ]
  },
  {
   "cell_type": "code",
   "execution_count": null,
   "metadata": {},
   "outputs": [],
   "source": []
  }
 ],
 "metadata": {
  "interpreter": {
   "hash": "f7111a28d93937e44de81b263355d7295881e69712709cd005f9d5c465abfe2b"
  },
  "kernelspec": {
   "display_name": "Python 3.8.5 64-bit ('ontonerd': conda)",
   "name": "python3"
  },
  "language_info": {
   "codemirror_mode": {
    "name": "ipython",
    "version": 3
   },
   "file_extension": ".py",
   "mimetype": "text/x-python",
   "name": "python",
   "nbconvert_exporter": "python",
   "pygments_lexer": "ipython3",
   "version": "3.8.5"
  },
  "orig_nbformat": 4
 },
 "nbformat": 4,
 "nbformat_minor": 2
}
