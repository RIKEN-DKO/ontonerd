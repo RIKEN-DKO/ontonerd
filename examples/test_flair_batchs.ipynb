{
 "cells": [
  {
   "cell_type": "code",
   "execution_count": 8,
   "metadata": {},
   "outputs": [],
   "source": [
    "from flair.models import SequenceTagger\n",
    "from dkoulinker.entity_linker import EntityLinker, get_mentions_ner,get_mentions_flair\n",
    "from flair.data import Sentence\n"
   ]
  },
  {
   "cell_type": "code",
   "execution_count": 12,
   "metadata": {},
   "outputs": [
    {
     "name": "stdout",
     "output_type": "stream",
     "text": [
      "2021-12-13 18:46:20,805 loading file ../resources/taggers/sota-ner-flair/best-model.pt\n"
     ]
    }
   ],
   "source": [
    "# load the NER tagger\n",
    "tagger = SequenceTagger.load(\n",
    "    '../resources/taggers/sota-ner-flair/best-model.pt')\n"
   ]
  },
  {
   "cell_type": "code",
   "execution_count": 9,
   "metadata": {},
   "outputs": [
    {
     "data": {
      "text/plain": [
       "(['flavivirus'], [{'text': 'flavivirus', 'start_pos': 30, 'end_pos': 40}])"
      ]
     },
     "execution_count": 9,
     "metadata": {},
     "output_type": "execute_result"
    }
   ],
   "source": [
    "text = \"Zika virus is a mosquitoborne flavivirus that is the focus of an ongoing pandemic and public health emergency. Previously limited to sporadic cases in Africa and Asia, the emergence of Zika virus in Brazil in 2015 heralded rapid spread throughout the Americas. Although most Zika virus infections are characterized by subclinical or mild influenza-like illness, severe manifestations have been described, including Guillain-Barre syndrome in adults and microcephaly in babies born to infected mothers. Neither an effective treatment nor a vaccine is available for Zika virus; therefore, the public health response primarily focuses on preventing infection, particularly in pregnant women. Despite growing knowledge about this virus, questions remain regarding the virus's vectors and reservoirs, pathogenesis, genetic diversity, and potential synergistic effects of co-infection with other circulating viruses. These questions highlight the need for research to optimize surveillance, patient management, and public health intervention in the current Zika virus epidemic. \"\n",
    "get_mentions_ner(text, tagger)\n"
   ]
  },
  {
   "cell_type": "code",
   "execution_count": 10,
   "metadata": {},
   "outputs": [],
   "source": [
    "from flair.tokenization import SegtokSentenceSplitter\n"
   ]
  },
  {
   "cell_type": "code",
   "execution_count": 18,
   "metadata": {},
   "outputs": [
    {
     "name": "stdout",
     "output_type": "stream",
     "text": [
      "2021-12-13 19:58:30,932 Warning: An empty Sentence was created! Are there empty strings in your dataset?\n",
      "2021-12-13 19:58:30,933 Ignore 1 sentence(s) with no tokens.\n",
      "CPU times: user 47.7 ms, sys: 6.65 ms, total: 54.3 ms\n",
      "Wall time: 52.7 ms\n"
     ]
    }
   ],
   "source": [
    "%%time\n",
    "# example text with many sentences\n",
    "text = \"Zika virus is a mosquitoborne flavivirus that is the focus of an ongoing pandemic and public health emergency. Previously limited to sporadic cases in Africa and Asia, the emergence of Zika virus in Brazil in 2015 heralded rapid spread throughout the Americas. Although most Zika virus infections are characterized by subclinical or mild influenza-like illness, severe manifestations have been described, including Guillain-Barre syndrome in adults and microcephaly in babies born to infected mothers. Neither an effective treatment nor a vaccine is available for Zika virus; therefore, the public health response primarily focuses on preventing infection, particularly in pregnant women. Despite growing knowledge about this virus, questions remain regarding the virus's vectors and reservoirs, pathogenesis, genetic diversity, and potential synergistic effects of co-infection with other circulating viruses. These questions highlight the need for research to optimize surveillance, patient management, and public health intervention in the current Zika virus epidemic. \"\n",
    "\n",
    "# initialize sentence splitter\n",
    "splitter = SegtokSentenceSplitter()\n",
    "\n",
    "# use splitter to split text into list of sentences\n",
    "sentences = splitter.split(text)\n",
    "\n",
    "# predict tags for sentences\n",
    "# tagger = SequenceTagger.load('ner')\n",
    "tagger.predict(sentences)\n",
    "\n",
    "# iterate through sentences and print predicted labels\n",
    "# for sentence in sentences:\n",
    "#     print(sentence.to_tagged_string())\n"
   ]
  },
  {
   "cell_type": "code",
   "execution_count": 20,
   "metadata": {},
   "outputs": [
    {
     "name": "stdout",
     "output_type": "stream",
     "text": [
      "2021-12-13 19:58:53,748 Ignore 1 sentence(s) with no tokens.\n",
      "2021-12-13 19:58:53,792 Ignore 1 sentence(s) with no tokens.\n",
      "2021-12-13 19:58:53,834 Ignore 1 sentence(s) with no tokens.\n",
      "2021-12-13 19:58:53,876 Ignore 1 sentence(s) with no tokens.\n",
      "2021-12-13 19:58:53,918 Ignore 1 sentence(s) with no tokens.\n",
      "2021-12-13 19:58:53,960 Ignore 1 sentence(s) with no tokens.\n",
      "2021-12-13 19:58:54,003 Ignore 1 sentence(s) with no tokens.\n",
      "CPU times: user 239 ms, sys: 64.9 ms, total: 304 ms\n",
      "Wall time: 301 ms\n"
     ]
    }
   ],
   "source": [
    "%%time\n",
    "sentences = [Sentence(sent) for sent in text.split('.')]\n",
    "for sentence in sentences:\n",
    "    tagger.predict(sentences)\n",
    "    # print(sentence.to_tagged_string())\n"
   ]
  },
  {
   "cell_type": "code",
   "execution_count": null,
   "metadata": {},
   "outputs": [],
   "source": []
  }
 ],
 "metadata": {
  "interpreter": {
   "hash": "f7111a28d93937e44de81b263355d7295881e69712709cd005f9d5c465abfe2b"
  },
  "kernelspec": {
   "display_name": "Python 3.8.5 64-bit ('ontonerd': conda)",
   "name": "python3"
  },
  "language_info": {
   "codemirror_mode": {
    "name": "ipython",
    "version": 3
   },
   "file_extension": ".py",
   "mimetype": "text/x-python",
   "name": "python",
   "nbconvert_exporter": "python",
   "pygments_lexer": "ipython3",
   "version": "3.8.5"
  },
  "orig_nbformat": 4
 },
 "nbformat": 4,
 "nbformat_minor": 2
}
