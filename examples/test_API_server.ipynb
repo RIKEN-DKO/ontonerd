{
 "cells": [
  {
   "cell_type": "code",
   "execution_count": 1,
   "metadata": {},
   "outputs": [],
   "source": [
    "import requests\n"
   ]
  },
  {
   "cell_type": "code",
   "execution_count": 3,
   "metadata": {},
   "outputs": [],
   "source": [
    "\n",
    "API_URL = \"http://0.0.0.0:5555\"\n",
    "text_doc = \"Altered gut microbiome composition in HIV infection: causes, effects and potential intervention.\"\n",
    "\n",
    "# Example EL.\n",
    "el_result = requests.post(API_URL, json={\n",
    "    \"text\": text_doc,\n",
    "    \"spans\": []\n",
    "}).json()\n"
   ]
  },
  {
   "cell_type": "code",
   "execution_count": 4,
   "metadata": {},
   "outputs": [
    {
     "data": {
      "text/plain": [
       "[{'end_pos': 11,\n",
       "  'text': 'gut',\n",
       "  'start_pos': 8,\n",
       "  'entities': [['UBERON:0001007', 0.8700926733965282],\n",
       "   ['UBERON:0001555', 0.7340052681185107],\n",
       "   ['UBERON:0004907', 0.36037230161509565],\n",
       "   ['MA:0000917', 0.23101364089906892],\n",
       "   ['ZFA:0000112', 0.3708896865541044]],\n",
       "  'best_entity': ['UBERON:0001007', 0.8700926733965282]},\n",
       " {'end_pos': 22,\n",
       "  'start_pos': 12,\n",
       "  'text': 'microbiome',\n",
       "  'entities': [['EFO:0004982', 3.4203408798620867]],\n",
       "  'best_entity': ['EFO:0004982', 3.4203408798620867]},\n",
       " {'text': 'composition',\n",
       "  'start_pos': 23,\n",
       "  'end_pos': 34,\n",
       "  'entities': [['PATO:0000025', 2.2103041492871944]],\n",
       "  'best_entity': ['PATO:0000025', 2.2103041492871944]},\n",
       " {'text': 'infection',\n",
       "  'end_pos': 51,\n",
       "  'start_pos': 42,\n",
       "  'entities': [['EFO:0000544', 2.5152140094765976],\n",
       "   ['EFO:0005741', 593.7205574018384]],\n",
       "  'best_entity': ['EFO:0005741', 593.7205574018384]},\n",
       " {'start_pos': 83,\n",
       "  'end_pos': 95,\n",
       "  'text': 'intervention',\n",
       "  'entities': [['EFO:0002571', 2.0669619323475756]],\n",
       "  'best_entity': ['EFO:0002571', 2.0669619323475756]}]"
      ]
     },
     "execution_count": 4,
     "metadata": {},
     "output_type": "execute_result"
    }
   ],
   "source": [
    "el_result"
   ]
  },
  {
   "cell_type": "code",
   "execution_count": null,
   "metadata": {},
   "outputs": [],
   "source": []
  }
 ],
 "metadata": {
  "interpreter": {
   "hash": "f7111a28d93937e44de81b263355d7295881e69712709cd005f9d5c465abfe2b"
  },
  "kernelspec": {
   "display_name": "Python 3.8.5 64-bit ('ontonerd': conda)",
   "name": "python3"
  },
  "language_info": {
   "codemirror_mode": {
    "name": "ipython",
    "version": 3
   },
   "file_extension": ".py",
   "mimetype": "text/x-python",
   "name": "python",
   "nbconvert_exporter": "python",
   "pygments_lexer": "ipython3",
   "version": "3.8.5"
  },
  "orig_nbformat": 4
 },
 "nbformat": 4,
 "nbformat_minor": 2
}
