{
 "cells": [
  {
   "cell_type": "code",
   "execution_count": 5,
   "metadata": {},
   "outputs": [],
   "source": [
    "import requests\n"
   ]
  },
  {
   "cell_type": "code",
   "execution_count": 6,
   "metadata": {},
   "outputs": [],
   "source": [
    "API_URL = \"http://0.0.0.0:5555\"\n"
   ]
  },
  {
   "cell_type": "code",
   "execution_count": 11,
   "metadata": {},
   "outputs": [],
   "source": [
    "\n",
    "\n",
    "text_doc = \"Altered gut microbiome composition in HIV infection: causes, effects and potential intervention.\"\n",
    "\n",
    "# Example EL.\n",
    "el_result = requests.post(API_URL, json={\n",
    "    \"text\": text_doc,\n",
    "    \"spans\": []\n",
    "}).json()\n"
   ]
  },
  {
   "cell_type": "code",
   "execution_count": 12,
   "metadata": {},
   "outputs": [
    {
     "data": {
      "text/plain": [
       "[{'start_pos': 8,\n",
       "  'end_pos': 11,\n",
       "  'text': 'gut',\n",
       "  'entities': [['UBERON:0001007',\n",
       "    0.8700926733965282,\n",
       "    'organs gastrointestinal tract devoted food residual digestion anatomical parts ingestion discharge assimilation digestive alimentary gut wastes system'],\n",
       "   ['UBERON:0001555',\n",
       "    0.7340052681185107,\n",
       "    'anus tract digestive mouth alimentary canal enteric extending gut tube'],\n",
       "   ['UBERON:0004907',\n",
       "    0.36037230161509565,\n",
       "    'gi gastrointestinal tract intestines definition region digestive lower beginning extending gut anus[go'],\n",
       "   ['MA:0000917', 0.23101364089906892, 'gut'],\n",
       "   ['ZFA:0000112',\n",
       "    0.3708896865541044,\n",
       "    'organs tract associated alimentary digestive canal enteric gut tube']],\n",
       "  'best_entity': ['UBERON:0001007', 0.8700926733965282]},\n",
       " {'start_pos': 12,\n",
       "  'end_pos': 22,\n",
       "  'text': 'microbiome',\n",
       "  'entities': [['EFO:0004982',\n",
       "    3.4203408798620867,\n",
       "    'microbiome microorganisms collectivity collection']],\n",
       "  'best_entity': ['EFO:0004982', 3.4203408798620867]},\n",
       " {'text': 'composition',\n",
       "  'end_pos': 34,\n",
       "  'start_pos': 23,\n",
       "  'entities': [['PATO:0000025',\n",
       "    2.2103041492871944,\n",
       "    'single structure quantities composed composition virtue relative ratios content inhering entity physical compositionality subparts bearer']],\n",
       "  'best_entity': ['PATO:0000025', 2.2103041492871944]},\n",
       " {'start_pos': 42,\n",
       "  'end_pos': 51,\n",
       "  'text': 'infection',\n",
       "  'entities': [['EFO:0000544', 2.5152140094765976, 'infection'],\n",
       "   ['EFO:0005741',\n",
       "    593.7205574018384,\n",
       "    'indirect direct diseases viral presence agent infectious disorder manifestations clinical parasitic resulting activity microbial transmitted disease communicable contact transmissible infection']],\n",
       "  'best_entity': ['EFO:0005741', 593.7205574018384]},\n",
       " {'end_pos': 95,\n",
       "  'text': 'intervention',\n",
       "  'start_pos': 83,\n",
       "  'entities': [['EFO:0002571',\n",
       "    2.0669619323475756,\n",
       "    'procedures preventive interventional encompasses patient intended behavioral interventiondescription procedure environmental surgical produces course acts intervention strategies general term activity population palliative medical therapeutic alter effects effect disease social']],\n",
       "  'best_entity': ['EFO:0002571', 2.0669619323475756]}]"
      ]
     },
     "execution_count": 12,
     "metadata": {},
     "output_type": "execute_result"
    }
   ],
   "source": [
    "el_result"
   ]
  },
  {
   "cell_type": "code",
   "execution_count": null,
   "metadata": {},
   "outputs": [],
   "source": []
  }
 ],
 "metadata": {
  "interpreter": {
   "hash": "f7111a28d93937e44de81b263355d7295881e69712709cd005f9d5c465abfe2b"
  },
  "kernelspec": {
   "display_name": "Python 3.8.5 64-bit ('ontonerd': conda)",
   "name": "python3"
  },
  "language_info": {
   "codemirror_mode": {
    "name": "ipython",
    "version": 3
   },
   "file_extension": ".py",
   "mimetype": "text/x-python",
   "name": "python",
   "nbconvert_exporter": "python",
   "pygments_lexer": "ipython3",
   "version": "3.8.5"
  },
  "orig_nbformat": 4
 },
 "nbformat": 4,
 "nbformat_minor": 2
}
